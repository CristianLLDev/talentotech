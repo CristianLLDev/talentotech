{
 "cells": [
  {
   "cell_type": "markdown",
   "metadata": {},
   "source": [
    "PROYECTO REGRESION LOGISTICA PARA CLASIFICACION\n",
    "INTENSIDAD DE TERREMOTOS\n",
    "BOOTCAMP INTELIGENCIA ARTIFICIAL \n",
    "NIVEL INTEGRADOR\n",
    "AUTOR CRISTIAN ANDRES LLANTEN\n",
    "PRESENTADO A ING ANDRES ESCALLON"
   ]
  },
  {
   "cell_type": "code",
   "execution_count": null,
   "metadata": {},
   "outputs": [],
   "source": []
  }
 ],
 "metadata": {
  "language_info": {
   "name": "python"
  }
 },
 "nbformat": 4,
 "nbformat_minor": 2
}
