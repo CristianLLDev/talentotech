{
 "cells": [
  {
   "cell_type": "markdown",
   "metadata": {},
   "source": [
    "## __PROYECTO REGRESION LOGISTICA PARA CLASIFICACION__ <br>\n",
    "*INTENSIDAD DE TERREMOTOS*<br>\n",
    "BOOTCAMP INTELIGENCIA ARTIFICIAL <br>\n",
    "NIVEL INTEGRADOR<br>\n",
    "__AUTOR CRISTIAN ANDRES LLANTEN<br>__\n",
    "__PRESENTADO A ING ANDRES ESCALLON<br>__"
   ]
  },
  {
   "cell_type": "markdown",
   "metadata": {},
   "source": [
    "##### __Importamos Librerias__ <br>\n",
    "*Realizamos la importacion de las librerias necesarias*<br>\n"
   ]
  },
  {
   "cell_type": "code",
   "execution_count": 152,
   "metadata": {},
   "outputs": [],
   "source": [
    "import pandas as pd\n",
    "import numpy as np\n",
    "from sklearn.model_selection import train_test_split\n",
    "from sklearn.preprocessing import StandardScaler, LabelEncoder\n",
    "from sklearn.linear_model import LogisticRegression\n",
    "from sklearn.metrics import classification_report, confusion_matrix, accuracy_score\n",
    "import seaborn as sns\n",
    "import matplotlib.pyplot as plt\n",
    "from sklearn.ensemble import RandomForestClassifier \n",
    "from sklearn.feature_selection import SelectFromModel\n",
    "from sklearn.metrics import roc_curve, roc_auc_score\n",
    "import joblib"
   ]
  },
  {
   "cell_type": "markdown",
   "metadata": {},
   "source": [
    "## <CENTER>Etiquetas de columnas</CENTER>"
   ]
  },
  {
   "cell_type": "markdown",
   "metadata": {},
   "source": [
    "-__title:__ título nombre dado al terremoto<br>\n",
    "-__magnitude:__ La magnitud del terremoto<br>\n",
    "-__date_time:__ fecha y hora<br>\n",
    "-__cdi:__ la intensidad máxima reportada para el rango del evento<br>\n",
    "-__mmi:__ La intensidad instrumental máxima estimada para el evento.<br>\n",
    "-__alert:__ el nivel de alerta: “verde”, “amarillo”, “naranja” y “rojo”<br>\n",
    "-__tsunami:__ \"1\" para eventos en regiones oceánicas y \"0\" en caso contrario<br>\n",
    "-__sig:__ un número que describe la importancia del evento. Los números <br>más grandes indican un evento más significativo. Este valor se determina en función <br>de una serie de factores, que incluyen: magnitud, MMI máximo, informes sentidos e impacto estimado.<br>\n",
    "-__net:__ el ID de un contribuyente de datos. Identifica la red considerada <br>como la fuente de información preferida para este evento.<br>\n",
    "-__nst:__ El número total de estaciones sismológicas utilizadas para determinar la ubicación del terremoto.<br>\n",
    "-__dmin:__ Distancia horizontal desde el epicentro hasta la estación más cercana<br>\n",
    "-__gap:__ la brecha azimutal más grande entre estaciones azimutalmente adyacentes (en grados).<br> En general, cuanto menor sea este número, \n",
    "más fiable será la posición horizontal calculada del terremoto.<br> Los lugares donde se producen terremotos en los que la brecha azimutal \n",
    "supera los 180 grados suelen <br>tener grandes incertidumbres de ubicación y profundidad.<br>\n",
    "-__magType:__ el método o algoritmo utilizado para calcular la magnitud preferida para el evento<br>\n",
    "-__depth:__ La profundidad donde el terremoto comienza a romperse<br>\n",
    "-__latitude/longitude:__ sistema de coordenadas mediante el cual se puede determinar y describir <br>la posición o ubicación de cualquier lugar de \n",
    "la superficie terrestre<br>\n",
    "-__location:__ ubicación dentro del país<br>\n",
    "-__continent:__ continente del país afectado por el terremoto<br>\n",
    "-__country:__ país afectado<br>\n",
    "-__terremoto:__ indica 1 si es terremoto y 0 si no lo es segun la escala de richter<br>\n",
    "-__intensidad:__ se determina 3 tipos de intensidad leve moderada y fuerte<br>"
   ]
  },
  {
   "cell_type": "markdown",
   "metadata": {},
   "source": [
    "*Cargamos el data set a trabajar  earthquake_1995-2023.csv y realizamos el proceso de redondeo a 1 decimal*"
   ]
  },
  {
   "cell_type": "code",
   "execution_count": 153,
   "metadata": {},
   "outputs": [],
   "source": [
    "df_sredondeo =pd.read_csv(\"earthquake_1995-2023.csv\")\n",
    "df = df_sredondeo.round(1)\n"
   ]
  },
  {
   "cell_type": "markdown",
   "metadata": {},
   "source": [
    "*Agregamos la columna terremoto e intensidad a nuestro dataset con valores categoricos <br>respecto a la magnitud de nuestro dataset*"
   ]
  },
  {
   "cell_type": "code",
   "execution_count": 154,
   "metadata": {},
   "outputs": [],
   "source": [
    "#en la escala de Richter, un terremoto se considera significativo a partir de una magnitud de 3.5.\n",
    "df['terremoto'] = np.where(df['magnitude'] >= 3.5, 1, 0)\n",
    "# Crear la columna 'intensidad' con las categorías especificadas\n",
    "df['intensidad'] = np.where(df['magnitude'] <= 3.5, 'leve',\n",
    "                           np.where(df['magnitude'] <= 6.5, 'moderado', 'fuerte'))"
   ]
  },
  {
   "cell_type": "markdown",
   "metadata": {},
   "source": [
    "## <CENTER>ANALISIS EXPLORATORIO DE DATOS</CENTER>\n",
    "*Visualizacion de todas las columnas y todas las filas del data set en el dataframe*<br>\n",
    "Data set de 1000 registros"
   ]
  },
  {
   "cell_type": "code",
   "execution_count": 155,
   "metadata": {},
   "outputs": [
    {
     "data": {
      "text/html": [
       "<div>\n",
       "<style scoped>\n",
       "    .dataframe tbody tr th:only-of-type {\n",
       "        vertical-align: middle;\n",
       "    }\n",
       "\n",
       "    .dataframe tbody tr th {\n",
       "        vertical-align: top;\n",
       "    }\n",
       "\n",
       "    .dataframe thead th {\n",
       "        text-align: right;\n",
       "    }\n",
       "</style>\n",
       "<table border=\"1\" class=\"dataframe\">\n",
       "  <thead>\n",
       "    <tr style=\"text-align: right;\">\n",
       "      <th></th>\n",
       "      <th>title</th>\n",
       "      <th>magnitude</th>\n",
       "      <th>date_time</th>\n",
       "      <th>cdi</th>\n",
       "      <th>mmi</th>\n",
       "      <th>alert</th>\n",
       "      <th>tsunami</th>\n",
       "      <th>sig</th>\n",
       "      <th>net</th>\n",
       "      <th>nst</th>\n",
       "      <th>dmin</th>\n",
       "      <th>gap</th>\n",
       "      <th>magType</th>\n",
       "      <th>depth</th>\n",
       "      <th>latitude</th>\n",
       "      <th>longitude</th>\n",
       "      <th>location</th>\n",
       "      <th>continent</th>\n",
       "      <th>country</th>\n",
       "      <th>terremoto</th>\n",
       "      <th>intensidad</th>\n",
       "    </tr>\n",
       "  </thead>\n",
       "  <tbody>\n",
       "    <tr>\n",
       "      <th>0</th>\n",
       "      <td>M 6.5 - 42 km W of Sola, Vanuatu</td>\n",
       "      <td>6.5</td>\n",
       "      <td>16-08-2023 12:47</td>\n",
       "      <td>7</td>\n",
       "      <td>4</td>\n",
       "      <td>green</td>\n",
       "      <td>0</td>\n",
       "      <td>657</td>\n",
       "      <td>us</td>\n",
       "      <td>114</td>\n",
       "      <td>7.2</td>\n",
       "      <td>25.0</td>\n",
       "      <td>mww</td>\n",
       "      <td>193.0</td>\n",
       "      <td>-13.9</td>\n",
       "      <td>167.2</td>\n",
       "      <td>Sola, Vanuatu</td>\n",
       "      <td>NaN</td>\n",
       "      <td>Vanuatu</td>\n",
       "      <td>1</td>\n",
       "      <td>moderado</td>\n",
       "    </tr>\n",
       "    <tr>\n",
       "      <th>1</th>\n",
       "      <td>M 6.5 - 43 km S of Intipucá, El Salvador</td>\n",
       "      <td>6.5</td>\n",
       "      <td>19-07-2023 00:22</td>\n",
       "      <td>8</td>\n",
       "      <td>6</td>\n",
       "      <td>yellow</td>\n",
       "      <td>0</td>\n",
       "      <td>775</td>\n",
       "      <td>us</td>\n",
       "      <td>92</td>\n",
       "      <td>0.7</td>\n",
       "      <td>40.0</td>\n",
       "      <td>mww</td>\n",
       "      <td>69.7</td>\n",
       "      <td>12.8</td>\n",
       "      <td>-88.1</td>\n",
       "      <td>Intipucá, El Salvador</td>\n",
       "      <td>NaN</td>\n",
       "      <td>NaN</td>\n",
       "      <td>1</td>\n",
       "      <td>moderado</td>\n",
       "    </tr>\n",
       "    <tr>\n",
       "      <th>2</th>\n",
       "      <td>M 6.6 - 25 km ESE of Loncopué, Argentina</td>\n",
       "      <td>6.6</td>\n",
       "      <td>17-07-2023 03:05</td>\n",
       "      <td>7</td>\n",
       "      <td>5</td>\n",
       "      <td>green</td>\n",
       "      <td>0</td>\n",
       "      <td>899</td>\n",
       "      <td>us</td>\n",
       "      <td>70</td>\n",
       "      <td>1.6</td>\n",
       "      <td>28.0</td>\n",
       "      <td>mww</td>\n",
       "      <td>171.4</td>\n",
       "      <td>-38.2</td>\n",
       "      <td>-70.4</td>\n",
       "      <td>Loncopué, Argentina</td>\n",
       "      <td>South America</td>\n",
       "      <td>Argentina</td>\n",
       "      <td>1</td>\n",
       "      <td>fuerte</td>\n",
       "    </tr>\n",
       "    <tr>\n",
       "      <th>3</th>\n",
       "      <td>M 7.2 - 98 km S of Sand Point, Alaska</td>\n",
       "      <td>7.2</td>\n",
       "      <td>16-07-2023 06:48</td>\n",
       "      <td>6</td>\n",
       "      <td>6</td>\n",
       "      <td>green</td>\n",
       "      <td>1</td>\n",
       "      <td>860</td>\n",
       "      <td>us</td>\n",
       "      <td>173</td>\n",
       "      <td>0.9</td>\n",
       "      <td>36.0</td>\n",
       "      <td>mww</td>\n",
       "      <td>32.6</td>\n",
       "      <td>54.4</td>\n",
       "      <td>-160.7</td>\n",
       "      <td>Sand Point, Alaska</td>\n",
       "      <td>NaN</td>\n",
       "      <td>NaN</td>\n",
       "      <td>1</td>\n",
       "      <td>fuerte</td>\n",
       "    </tr>\n",
       "    <tr>\n",
       "      <th>4</th>\n",
       "      <td>M 7.3 - Alaska Peninsula</td>\n",
       "      <td>7.3</td>\n",
       "      <td>16-07-2023 06:48</td>\n",
       "      <td>0</td>\n",
       "      <td>5</td>\n",
       "      <td>NaN</td>\n",
       "      <td>1</td>\n",
       "      <td>820</td>\n",
       "      <td>at</td>\n",
       "      <td>79</td>\n",
       "      <td>0.9</td>\n",
       "      <td>172.8</td>\n",
       "      <td>Mi</td>\n",
       "      <td>21.0</td>\n",
       "      <td>54.5</td>\n",
       "      <td>-160.8</td>\n",
       "      <td>Alaska Peninsula</td>\n",
       "      <td>NaN</td>\n",
       "      <td>NaN</td>\n",
       "      <td>1</td>\n",
       "      <td>fuerte</td>\n",
       "    </tr>\n",
       "    <tr>\n",
       "      <th>5</th>\n",
       "      <td>M 6.6 - 277 km NNE of Codrington, Antigua and ...</td>\n",
       "      <td>6.6</td>\n",
       "      <td>10-07-2023 20:28</td>\n",
       "      <td>5</td>\n",
       "      <td>4</td>\n",
       "      <td>green</td>\n",
       "      <td>1</td>\n",
       "      <td>802</td>\n",
       "      <td>us</td>\n",
       "      <td>95</td>\n",
       "      <td>2.5</td>\n",
       "      <td>37.0</td>\n",
       "      <td>mww</td>\n",
       "      <td>10.0</td>\n",
       "      <td>20.0</td>\n",
       "      <td>-61.1</td>\n",
       "      <td>Codrington, Antigua and Barbuda</td>\n",
       "      <td>NaN</td>\n",
       "      <td>NaN</td>\n",
       "      <td>1</td>\n",
       "      <td>fuerte</td>\n",
       "    </tr>\n",
       "    <tr>\n",
       "      <th>6</th>\n",
       "      <td>M 6.9 - Tonga</td>\n",
       "      <td>6.9</td>\n",
       "      <td>02-07-2023 10:27</td>\n",
       "      <td>4</td>\n",
       "      <td>4</td>\n",
       "      <td>green</td>\n",
       "      <td>1</td>\n",
       "      <td>741</td>\n",
       "      <td>us</td>\n",
       "      <td>136</td>\n",
       "      <td>1.2</td>\n",
       "      <td>23.0</td>\n",
       "      <td>mww</td>\n",
       "      <td>229.0</td>\n",
       "      <td>-17.9</td>\n",
       "      <td>-174.9</td>\n",
       "      <td>Tonga</td>\n",
       "      <td>NaN</td>\n",
       "      <td>NaN</td>\n",
       "      <td>1</td>\n",
       "      <td>fuerte</td>\n",
       "    </tr>\n",
       "    <tr>\n",
       "      <th>7</th>\n",
       "      <td>M 7.2 - south of the Fiji Islands</td>\n",
       "      <td>7.2</td>\n",
       "      <td>15-06-2023 18:06</td>\n",
       "      <td>8</td>\n",
       "      <td>6</td>\n",
       "      <td>green</td>\n",
       "      <td>1</td>\n",
       "      <td>804</td>\n",
       "      <td>us</td>\n",
       "      <td>85</td>\n",
       "      <td>2.6</td>\n",
       "      <td>24.0</td>\n",
       "      <td>mww</td>\n",
       "      <td>167.4</td>\n",
       "      <td>-23.0</td>\n",
       "      <td>-177.2</td>\n",
       "      <td>the Fiji Islands</td>\n",
       "      <td>NaN</td>\n",
       "      <td>NaN</td>\n",
       "      <td>1</td>\n",
       "      <td>fuerte</td>\n",
       "    </tr>\n",
       "    <tr>\n",
       "      <th>8</th>\n",
       "      <td>M 6.6 - Panama-Colombia border region</td>\n",
       "      <td>6.6</td>\n",
       "      <td>25-05-2023 03:05</td>\n",
       "      <td>6</td>\n",
       "      <td>6</td>\n",
       "      <td>green</td>\n",
       "      <td>1</td>\n",
       "      <td>733</td>\n",
       "      <td>us</td>\n",
       "      <td>50</td>\n",
       "      <td>2.2</td>\n",
       "      <td>129.0</td>\n",
       "      <td>mww</td>\n",
       "      <td>10.0</td>\n",
       "      <td>8.9</td>\n",
       "      <td>-77.1</td>\n",
       "      <td>Panama-Colombia border region</td>\n",
       "      <td>NaN</td>\n",
       "      <td>Colombia</td>\n",
       "      <td>1</td>\n",
       "      <td>fuerte</td>\n",
       "    </tr>\n",
       "    <tr>\n",
       "      <th>9</th>\n",
       "      <td>M 7.1 - southeast of the Loyalty Islands</td>\n",
       "      <td>7.1</td>\n",
       "      <td>20-05-2023 01:51</td>\n",
       "      <td>3</td>\n",
       "      <td>4</td>\n",
       "      <td>green</td>\n",
       "      <td>1</td>\n",
       "      <td>777</td>\n",
       "      <td>us</td>\n",
       "      <td>98</td>\n",
       "      <td>2.8</td>\n",
       "      <td>56.0</td>\n",
       "      <td>mww</td>\n",
       "      <td>36.0</td>\n",
       "      <td>-23.1</td>\n",
       "      <td>170.5</td>\n",
       "      <td>the Loyalty Islands</td>\n",
       "      <td>NaN</td>\n",
       "      <td>NaN</td>\n",
       "      <td>1</td>\n",
       "      <td>fuerte</td>\n",
       "    </tr>\n",
       "  </tbody>\n",
       "</table>\n",
       "</div>"
      ],
      "text/plain": [
       "                                               title  magnitude  \\\n",
       "0                   M 6.5 - 42 km W of Sola, Vanuatu        6.5   \n",
       "1           M 6.5 - 43 km S of Intipucá, El Salvador        6.5   \n",
       "2           M 6.6 - 25 km ESE of Loncopué, Argentina        6.6   \n",
       "3              M 7.2 - 98 km S of Sand Point, Alaska        7.2   \n",
       "4                           M 7.3 - Alaska Peninsula        7.3   \n",
       "5  M 6.6 - 277 km NNE of Codrington, Antigua and ...        6.6   \n",
       "6                                      M 6.9 - Tonga        6.9   \n",
       "7                  M 7.2 - south of the Fiji Islands        7.2   \n",
       "8              M 6.6 - Panama-Colombia border region        6.6   \n",
       "9           M 7.1 - southeast of the Loyalty Islands        7.1   \n",
       "\n",
       "          date_time  cdi  mmi   alert  tsunami  sig net  nst  dmin    gap  \\\n",
       "0  16-08-2023 12:47    7    4   green        0  657  us  114   7.2   25.0   \n",
       "1  19-07-2023 00:22    8    6  yellow        0  775  us   92   0.7   40.0   \n",
       "2  17-07-2023 03:05    7    5   green        0  899  us   70   1.6   28.0   \n",
       "3  16-07-2023 06:48    6    6   green        1  860  us  173   0.9   36.0   \n",
       "4  16-07-2023 06:48    0    5     NaN        1  820  at   79   0.9  172.8   \n",
       "5  10-07-2023 20:28    5    4   green        1  802  us   95   2.5   37.0   \n",
       "6  02-07-2023 10:27    4    4   green        1  741  us  136   1.2   23.0   \n",
       "7  15-06-2023 18:06    8    6   green        1  804  us   85   2.6   24.0   \n",
       "8  25-05-2023 03:05    6    6   green        1  733  us   50   2.2  129.0   \n",
       "9  20-05-2023 01:51    3    4   green        1  777  us   98   2.8   56.0   \n",
       "\n",
       "  magType  depth  latitude  longitude                         location  \\\n",
       "0     mww  193.0     -13.9      167.2                    Sola, Vanuatu   \n",
       "1     mww   69.7      12.8      -88.1            Intipucá, El Salvador   \n",
       "2     mww  171.4     -38.2      -70.4              Loncopué, Argentina   \n",
       "3     mww   32.6      54.4     -160.7               Sand Point, Alaska   \n",
       "4      Mi   21.0      54.5     -160.8                 Alaska Peninsula   \n",
       "5     mww   10.0      20.0      -61.1  Codrington, Antigua and Barbuda   \n",
       "6     mww  229.0     -17.9     -174.9                            Tonga   \n",
       "7     mww  167.4     -23.0     -177.2                 the Fiji Islands   \n",
       "8     mww   10.0       8.9      -77.1    Panama-Colombia border region   \n",
       "9     mww   36.0     -23.1      170.5              the Loyalty Islands   \n",
       "\n",
       "       continent    country  terremoto intensidad  \n",
       "0            NaN    Vanuatu          1   moderado  \n",
       "1            NaN        NaN          1   moderado  \n",
       "2  South America  Argentina          1     fuerte  \n",
       "3            NaN        NaN          1     fuerte  \n",
       "4            NaN        NaN          1     fuerte  \n",
       "5            NaN        NaN          1     fuerte  \n",
       "6            NaN        NaN          1     fuerte  \n",
       "7            NaN        NaN          1     fuerte  \n",
       "8            NaN   Colombia          1     fuerte  \n",
       "9            NaN        NaN          1     fuerte  "
      ]
     },
     "execution_count": 155,
     "metadata": {},
     "output_type": "execute_result"
    }
   ],
   "source": [
    "pd.set_option('display.max_columns', None)\n",
    "pd.set_option('display.max_rows', None)\n",
    "df.head(10)"
   ]
  },
  {
   "cell_type": "markdown",
   "metadata": {},
   "source": [
    "*Muestreo aleatorio de datos*"
   ]
  },
  {
   "cell_type": "code",
   "execution_count": 156,
   "metadata": {},
   "outputs": [
    {
     "data": {
      "text/html": [
       "<div>\n",
       "<style scoped>\n",
       "    .dataframe tbody tr th:only-of-type {\n",
       "        vertical-align: middle;\n",
       "    }\n",
       "\n",
       "    .dataframe tbody tr th {\n",
       "        vertical-align: top;\n",
       "    }\n",
       "\n",
       "    .dataframe thead th {\n",
       "        text-align: right;\n",
       "    }\n",
       "</style>\n",
       "<table border=\"1\" class=\"dataframe\">\n",
       "  <thead>\n",
       "    <tr style=\"text-align: right;\">\n",
       "      <th></th>\n",
       "      <th>title</th>\n",
       "      <th>magnitude</th>\n",
       "      <th>date_time</th>\n",
       "      <th>cdi</th>\n",
       "      <th>mmi</th>\n",
       "      <th>alert</th>\n",
       "      <th>tsunami</th>\n",
       "      <th>sig</th>\n",
       "      <th>net</th>\n",
       "      <th>nst</th>\n",
       "      <th>dmin</th>\n",
       "      <th>gap</th>\n",
       "      <th>magType</th>\n",
       "      <th>depth</th>\n",
       "      <th>latitude</th>\n",
       "      <th>longitude</th>\n",
       "      <th>location</th>\n",
       "      <th>continent</th>\n",
       "      <th>country</th>\n",
       "      <th>terremoto</th>\n",
       "      <th>intensidad</th>\n",
       "    </tr>\n",
       "  </thead>\n",
       "  <tbody>\n",
       "    <tr>\n",
       "      <th>290</th>\n",
       "      <td>M 6.7 - 102 km WSW of Sola, Vanuatu</td>\n",
       "      <td>6.7</td>\n",
       "      <td>06-04-2016 06:58</td>\n",
       "      <td>7</td>\n",
       "      <td>6</td>\n",
       "      <td>green</td>\n",
       "      <td>1</td>\n",
       "      <td>691</td>\n",
       "      <td>us</td>\n",
       "      <td>0</td>\n",
       "      <td>6.7</td>\n",
       "      <td>19.0</td>\n",
       "      <td>mww</td>\n",
       "      <td>24.0</td>\n",
       "      <td>-14.1</td>\n",
       "      <td>166.6</td>\n",
       "      <td>Sola, Vanuatu</td>\n",
       "      <td>NaN</td>\n",
       "      <td>Vanuatu</td>\n",
       "      <td>1</td>\n",
       "      <td>fuerte</td>\n",
       "    </tr>\n",
       "    <tr>\n",
       "      <th>447</th>\n",
       "      <td>M 7.0 - 33 km NW of Lata, Solomon Islands</td>\n",
       "      <td>7.0</td>\n",
       "      <td>06-02-2013 01:54</td>\n",
       "      <td>0</td>\n",
       "      <td>6</td>\n",
       "      <td>green</td>\n",
       "      <td>0</td>\n",
       "      <td>754</td>\n",
       "      <td>us</td>\n",
       "      <td>445</td>\n",
       "      <td>0.0</td>\n",
       "      <td>17.5</td>\n",
       "      <td>mww</td>\n",
       "      <td>8.8</td>\n",
       "      <td>-10.5</td>\n",
       "      <td>165.6</td>\n",
       "      <td>Lata, Solomon Islands</td>\n",
       "      <td>NaN</td>\n",
       "      <td>Solomon Islands</td>\n",
       "      <td>1</td>\n",
       "      <td>fuerte</td>\n",
       "    </tr>\n",
       "    <tr>\n",
       "      <th>511</th>\n",
       "      <td>M 9.1 - 2011 Great Tohoku Earthquake, Japan</td>\n",
       "      <td>9.1</td>\n",
       "      <td>11-03-2011 05:46</td>\n",
       "      <td>9</td>\n",
       "      <td>8</td>\n",
       "      <td>NaN</td>\n",
       "      <td>0</td>\n",
       "      <td>2184</td>\n",
       "      <td>official</td>\n",
       "      <td>541</td>\n",
       "      <td>0.0</td>\n",
       "      <td>9.5</td>\n",
       "      <td>mww</td>\n",
       "      <td>29.0</td>\n",
       "      <td>38.3</td>\n",
       "      <td>142.4</td>\n",
       "      <td>2011 Great Tohoku Earthquake, Japan</td>\n",
       "      <td>NaN</td>\n",
       "      <td>NaN</td>\n",
       "      <td>1</td>\n",
       "      <td>fuerte</td>\n",
       "    </tr>\n",
       "    <tr>\n",
       "      <th>319</th>\n",
       "      <td>M 7.0 - 25 km WNW of Illapel, Chile</td>\n",
       "      <td>7.0</td>\n",
       "      <td>16-09-2015 23:18</td>\n",
       "      <td>8</td>\n",
       "      <td>7</td>\n",
       "      <td>green</td>\n",
       "      <td>0</td>\n",
       "      <td>799</td>\n",
       "      <td>us</td>\n",
       "      <td>0</td>\n",
       "      <td>0.9</td>\n",
       "      <td>13.0</td>\n",
       "      <td>mww</td>\n",
       "      <td>28.4</td>\n",
       "      <td>-31.6</td>\n",
       "      <td>-71.4</td>\n",
       "      <td>Illapel, Chile</td>\n",
       "      <td>South America</td>\n",
       "      <td>Chile</td>\n",
       "      <td>1</td>\n",
       "      <td>fuerte</td>\n",
       "    </tr>\n",
       "    <tr>\n",
       "      <th>132</th>\n",
       "      <td>M 7.4 - south of the Kermadec Islands</td>\n",
       "      <td>7.4</td>\n",
       "      <td>18-06-2020 12:49</td>\n",
       "      <td>7</td>\n",
       "      <td>7</td>\n",
       "      <td>green</td>\n",
       "      <td>1</td>\n",
       "      <td>873</td>\n",
       "      <td>us</td>\n",
       "      <td>0</td>\n",
       "      <td>4.0</td>\n",
       "      <td>23.0</td>\n",
       "      <td>mww</td>\n",
       "      <td>10.0</td>\n",
       "      <td>-33.3</td>\n",
       "      <td>-177.8</td>\n",
       "      <td>the Kermadec Islands</td>\n",
       "      <td>NaN</td>\n",
       "      <td>NaN</td>\n",
       "      <td>1</td>\n",
       "      <td>fuerte</td>\n",
       "    </tr>\n",
       "  </tbody>\n",
       "</table>\n",
       "</div>"
      ],
      "text/plain": [
       "                                           title  magnitude         date_time  \\\n",
       "290          M 6.7 - 102 km WSW of Sola, Vanuatu        6.7  06-04-2016 06:58   \n",
       "447    M 7.0 - 33 km NW of Lata, Solomon Islands        7.0  06-02-2013 01:54   \n",
       "511  M 9.1 - 2011 Great Tohoku Earthquake, Japan        9.1  11-03-2011 05:46   \n",
       "319          M 7.0 - 25 km WNW of Illapel, Chile        7.0  16-09-2015 23:18   \n",
       "132        M 7.4 - south of the Kermadec Islands        7.4  18-06-2020 12:49   \n",
       "\n",
       "     cdi  mmi  alert  tsunami   sig       net  nst  dmin   gap magType  depth  \\\n",
       "290    7    6  green        1   691        us    0   6.7  19.0     mww   24.0   \n",
       "447    0    6  green        0   754        us  445   0.0  17.5     mww    8.8   \n",
       "511    9    8    NaN        0  2184  official  541   0.0   9.5     mww   29.0   \n",
       "319    8    7  green        0   799        us    0   0.9  13.0     mww   28.4   \n",
       "132    7    7  green        1   873        us    0   4.0  23.0     mww   10.0   \n",
       "\n",
       "     latitude  longitude                             location      continent  \\\n",
       "290     -14.1      166.6                        Sola, Vanuatu            NaN   \n",
       "447     -10.5      165.6                Lata, Solomon Islands            NaN   \n",
       "511      38.3      142.4  2011 Great Tohoku Earthquake, Japan            NaN   \n",
       "319     -31.6      -71.4                       Illapel, Chile  South America   \n",
       "132     -33.3     -177.8                 the Kermadec Islands            NaN   \n",
       "\n",
       "             country  terremoto intensidad  \n",
       "290          Vanuatu          1     fuerte  \n",
       "447  Solomon Islands          1     fuerte  \n",
       "511              NaN          1     fuerte  \n",
       "319            Chile          1     fuerte  \n",
       "132              NaN          1     fuerte  "
      ]
     },
     "execution_count": 156,
     "metadata": {},
     "output_type": "execute_result"
    }
   ],
   "source": [
    "muestra_aleatoria = df.sample(n=5)\n",
    "muestra_aleatoria"
   ]
  },
  {
   "cell_type": "markdown",
   "metadata": {},
   "source": [
    "*Informacion del data frame, tipos de datos, cantidad y valores nulos*"
   ]
  },
  {
   "cell_type": "code",
   "execution_count": 157,
   "metadata": {},
   "outputs": [
    {
     "name": "stdout",
     "output_type": "stream",
     "text": [
      "<class 'pandas.core.frame.DataFrame'>\n",
      "RangeIndex: 1000 entries, 0 to 999\n",
      "Data columns (total 21 columns):\n",
      " #   Column      Non-Null Count  Dtype  \n",
      "---  ------      --------------  -----  \n",
      " 0   title       1000 non-null   object \n",
      " 1   magnitude   1000 non-null   float64\n",
      " 2   date_time   1000 non-null   object \n",
      " 3   cdi         1000 non-null   int64  \n",
      " 4   mmi         1000 non-null   int64  \n",
      " 5   alert       449 non-null    object \n",
      " 6   tsunami     1000 non-null   int64  \n",
      " 7   sig         1000 non-null   int64  \n",
      " 8   net         1000 non-null   object \n",
      " 9   nst         1000 non-null   int64  \n",
      " 10  dmin        1000 non-null   float64\n",
      " 11  gap         1000 non-null   float64\n",
      " 12  magType     1000 non-null   object \n",
      " 13  depth       1000 non-null   float64\n",
      " 14  latitude    1000 non-null   float64\n",
      " 15  longitude   1000 non-null   float64\n",
      " 16  location    994 non-null    object \n",
      " 17  continent   284 non-null    object \n",
      " 18  country     651 non-null    object \n",
      " 19  terremoto   1000 non-null   int64  \n",
      " 20  intensidad  1000 non-null   object \n",
      "dtypes: float64(6), int64(6), object(9)\n",
      "memory usage: 164.2+ KB\n"
     ]
    }
   ],
   "source": [
    "df.info()"
   ]
  },
  {
   "cell_type": "markdown",
   "metadata": {},
   "source": [
    "*De la Columna intensidad del data set se sacan los valores unicos ,se observa las tres variables categoricas<br>__leve__ hasta 3.5 grados de magnitud, __moderado__ hasta 6.5 grados de magnitud y __fuerte__ superior a 6.6 grados de magnitud*"
   ]
  },
  {
   "cell_type": "code",
   "execution_count": 158,
   "metadata": {},
   "outputs": [
    {
     "name": "stdout",
     "output_type": "stream",
     "text": [
      "intensidad\n",
      "fuerte      835\n",
      "moderado    165\n",
      "Name: count, dtype: int64\n"
     ]
    },
    {
     "data": {
      "image/png": "[encoded data removed]",
      "text/plain": [
       "<Figure size 640x480 with 1 Axes>"
      ]
     },
     "metadata": {},
     "output_type": "display_data"
    }
   ],
   "source": [
    "# Contar los valores únicos\n",
    "print(df['intensidad'].value_counts())\n",
    "\n",
    "# Visualizar la distribución\n",
    "sns.countplot(x='intensidad', data=df)\n",
    "plt.title('Distribución de Terremotos')\n",
    "plt.show()"
   ]
  },
  {
   "cell_type": "code",
   "execution_count": 159,
   "metadata": {},
   "outputs": [
    {
     "data": {
      "image/png": "[encoded data removed]",
      "text/plain": [
       "<Figure size 640x480 with 1 Axes>"
      ]
     },
     "metadata": {},
     "output_type": "display_data"
    }
   ],
   "source": [
    "svm_palette = ['#3d5a80', '#98c1d9', '#ee6c4d', '#293241']\n",
    "plt.title(\"Distribution de intensidades\")\n",
    "df['intensidad'].value_counts().plot.pie(autopct=\"%1.1f%%\");"
   ]
  },
  {
   "cell_type": "markdown",
   "metadata": {},
   "source": [
    "*Se nota un desbalance en las 2 clases de la distribucion de datos, donde la clase \"Fuerte tiene mas del 50% de datos que la clase Moderado\"*"
   ]
  },
  {
   "cell_type": "markdown",
   "metadata": {},
   "source": [
    "### __¿Cómo afecta el desbalance a la regresión logística?<br>__\n",
    "__Sesgo en las predicciones:__ El modelo puede predecir casi todos los ejemplos como pertenecientes a la clase mayoritaria,<br> lo que resulta en una baja precisión para la clase minoritaria.<br>\n",
    "__Baja sensibilidad:__ La sensibilidad (recall) del modelo para la clase minoritaria será baja, lo que significa que el <br>modelo no podrá identificar correctamente muchos de los casos positivos de esta clase.<br>\n",
    "__Sobreajuste:__ El modelo puede sobreajustarse a la clase mayoritaria, lo que dificulta su generalización a nuevos datos."
   ]
  },
  {
   "cell_type": "markdown",
   "metadata": {},
   "source": [
    "*OBSERVAMOS CON .SHAPE LA ESTRUCTURA DE NUESTRO DATA FRAME 1000 FILAS Y 21 COLUMNAS*"
   ]
  },
  {
   "cell_type": "code",
   "execution_count": 160,
   "metadata": {},
   "outputs": [
    {
     "data": {
      "text/plain": [
       "(1000, 21)"
      ]
     },
     "execution_count": 160,
     "metadata": {},
     "output_type": "execute_result"
    }
   ],
   "source": [
    "df.shape"
   ]
  },
  {
   "cell_type": "markdown",
   "metadata": {},
   "source": [
    "### <CENTER>__DISTRIBUCION DE LOS DATOS__</CENTER>"
   ]
  },
  {
   "cell_type": "markdown",
   "metadata": {},
   "source": [
    "*Magnitud minima del dataframe 6.5 y maxima 9.1, cabe destacar que en el proyecto no podemos visualizar la clase __leve__ ya que nuestro dataset <br> no contiene  aun valores menores a 3.5 de magnitud, mas adelante realizaremos el proceso para anexar valores en ese rango y comprobar resultados*"
   ]
  },
  {
   "cell_type": "code",
   "execution_count": 161,
   "metadata": {},
   "outputs": [
    {
     "data": {
      "text/html": [
       "<div>\n",
       "<style scoped>\n",
       "    .dataframe tbody tr th:only-of-type {\n",
       "        vertical-align: middle;\n",
       "    }\n",
       "\n",
       "    .dataframe tbody tr th {\n",
       "        vertical-align: top;\n",
       "    }\n",
       "\n",
       "    .dataframe thead th {\n",
       "        text-align: right;\n",
       "    }\n",
       "</style>\n",
       "<table border=\"1\" class=\"dataframe\">\n",
       "  <thead>\n",
       "    <tr style=\"text-align: right;\">\n",
       "      <th></th>\n",
       "      <th>magnitude</th>\n",
       "      <th>cdi</th>\n",
       "      <th>mmi</th>\n",
       "      <th>tsunami</th>\n",
       "      <th>sig</th>\n",
       "      <th>nst</th>\n",
       "      <th>dmin</th>\n",
       "      <th>gap</th>\n",
       "      <th>depth</th>\n",
       "      <th>latitude</th>\n",
       "      <th>longitude</th>\n",
       "      <th>terremoto</th>\n",
       "    </tr>\n",
       "  </thead>\n",
       "  <tbody>\n",
       "    <tr>\n",
       "      <th>count</th>\n",
       "      <td>1000.0</td>\n",
       "      <td>1000.0</td>\n",
       "      <td>1000.0</td>\n",
       "      <td>1000.0</td>\n",
       "      <td>1000.0</td>\n",
       "      <td>1000.0</td>\n",
       "      <td>1000.0</td>\n",
       "      <td>1000.0</td>\n",
       "      <td>1000.0</td>\n",
       "      <td>1000.0</td>\n",
       "      <td>1000.0</td>\n",
       "      <td>1000.0</td>\n",
       "    </tr>\n",
       "    <tr>\n",
       "      <th>mean</th>\n",
       "      <td>6.9</td>\n",
       "      <td>3.6</td>\n",
       "      <td>6.0</td>\n",
       "      <td>0.3</td>\n",
       "      <td>847.9</td>\n",
       "      <td>193.9</td>\n",
       "      <td>1.1</td>\n",
       "      <td>20.9</td>\n",
       "      <td>74.6</td>\n",
       "      <td>4.3</td>\n",
       "      <td>51.5</td>\n",
       "      <td>1.0</td>\n",
       "    </tr>\n",
       "    <tr>\n",
       "      <th>std</th>\n",
       "      <td>0.4</td>\n",
       "      <td>3.3</td>\n",
       "      <td>1.4</td>\n",
       "      <td>0.5</td>\n",
       "      <td>301.8</td>\n",
       "      <td>239.0</td>\n",
       "      <td>2.1</td>\n",
       "      <td>24.4</td>\n",
       "      <td>130.8</td>\n",
       "      <td>26.6</td>\n",
       "      <td>117.5</td>\n",
       "      <td>0.0</td>\n",
       "    </tr>\n",
       "    <tr>\n",
       "      <th>min</th>\n",
       "      <td>6.5</td>\n",
       "      <td>0.0</td>\n",
       "      <td>1.0</td>\n",
       "      <td>0.0</td>\n",
       "      <td>650.0</td>\n",
       "      <td>0.0</td>\n",
       "      <td>0.0</td>\n",
       "      <td>0.0</td>\n",
       "      <td>2.7</td>\n",
       "      <td>-61.8</td>\n",
       "      <td>-180.0</td>\n",
       "      <td>1.0</td>\n",
       "    </tr>\n",
       "    <tr>\n",
       "      <th>25%</th>\n",
       "      <td>6.6</td>\n",
       "      <td>0.0</td>\n",
       "      <td>5.0</td>\n",
       "      <td>0.0</td>\n",
       "      <td>691.0</td>\n",
       "      <td>0.0</td>\n",
       "      <td>0.0</td>\n",
       "      <td>0.0</td>\n",
       "      <td>16.0</td>\n",
       "      <td>-13.5</td>\n",
       "      <td>-71.7</td>\n",
       "      <td>1.0</td>\n",
       "    </tr>\n",
       "    <tr>\n",
       "      <th>50%</th>\n",
       "      <td>6.8</td>\n",
       "      <td>4.0</td>\n",
       "      <td>6.0</td>\n",
       "      <td>0.0</td>\n",
       "      <td>744.0</td>\n",
       "      <td>0.0</td>\n",
       "      <td>0.0</td>\n",
       "      <td>18.0</td>\n",
       "      <td>29.0</td>\n",
       "      <td>-2.4</td>\n",
       "      <td>107.8</td>\n",
       "      <td>1.0</td>\n",
       "    </tr>\n",
       "    <tr>\n",
       "      <th>75%</th>\n",
       "      <td>7.1</td>\n",
       "      <td>7.0</td>\n",
       "      <td>7.0</td>\n",
       "      <td>1.0</td>\n",
       "      <td>874.2</td>\n",
       "      <td>403.0</td>\n",
       "      <td>1.5</td>\n",
       "      <td>27.0</td>\n",
       "      <td>55.0</td>\n",
       "      <td>25.2</td>\n",
       "      <td>148.4</td>\n",
       "      <td>1.0</td>\n",
       "    </tr>\n",
       "    <tr>\n",
       "      <th>max</th>\n",
       "      <td>9.1</td>\n",
       "      <td>9.0</td>\n",
       "      <td>10.0</td>\n",
       "      <td>1.0</td>\n",
       "      <td>2910.0</td>\n",
       "      <td>934.0</td>\n",
       "      <td>17.7</td>\n",
       "      <td>239.0</td>\n",
       "      <td>670.8</td>\n",
       "      <td>71.6</td>\n",
       "      <td>179.7</td>\n",
       "      <td>1.0</td>\n",
       "    </tr>\n",
       "  </tbody>\n",
       "</table>\n",
       "</div>"
      ],
      "text/plain": [
       "       magnitude     cdi     mmi  tsunami     sig     nst    dmin     gap  \\\n",
       "count     1000.0  1000.0  1000.0   1000.0  1000.0  1000.0  1000.0  1000.0   \n",
       "mean         6.9     3.6     6.0      0.3   847.9   193.9     1.1    20.9   \n",
       "std          0.4     3.3     1.4      0.5   301.8   239.0     2.1    24.4   \n",
       "min          6.5     0.0     1.0      0.0   650.0     0.0     0.0     0.0   \n",
       "25%          6.6     0.0     5.0      0.0   691.0     0.0     0.0     0.0   \n",
       "50%          6.8     4.0     6.0      0.0   744.0     0.0     0.0    18.0   \n",
       "75%          7.1     7.0     7.0      1.0   874.2   403.0     1.5    27.0   \n",
       "max          9.1     9.0    10.0      1.0  2910.0   934.0    17.7   239.0   \n",
       "\n",
       "        depth  latitude  longitude  terremoto  \n",
       "count  1000.0    1000.0     1000.0     1000.0  \n",
       "mean     74.6       4.3       51.5        1.0  \n",
       "std     130.8      26.6      117.5        0.0  \n",
       "min       2.7     -61.8     -180.0        1.0  \n",
       "25%      16.0     -13.5      -71.7        1.0  \n",
       "50%      29.0      -2.4      107.8        1.0  \n",
       "75%      55.0      25.2      148.4        1.0  \n",
       "max     670.8      71.6      179.7        1.0  "
      ]
     },
     "execution_count": 161,
     "metadata": {},
     "output_type": "execute_result"
    }
   ],
   "source": [
    "df.describe().round(1)"
   ]
  },
  {
   "cell_type": "markdown",
   "metadata": {},
   "source": [
    "*Comprobamos el porcentaje de valores nulos en cada celda del dataframe*"
   ]
  },
  {
   "cell_type": "code",
   "execution_count": 162,
   "metadata": {},
   "outputs": [
    {
     "data": {
      "text/plain": [
       "title          0.0\n",
       "magnitude      0.0\n",
       "date_time      0.0\n",
       "cdi            0.0\n",
       "mmi            0.0\n",
       "alert         55.1\n",
       "tsunami        0.0\n",
       "sig            0.0\n",
       "net            0.0\n",
       "nst            0.0\n",
       "dmin           0.0\n",
       "gap            0.0\n",
       "magType        0.0\n",
       "depth          0.0\n",
       "latitude       0.0\n",
       "longitude      0.0\n",
       "location       0.6\n",
       "continent     71.6\n",
       "country       34.9\n",
       "terremoto      0.0\n",
       "intensidad     0.0\n",
       "dtype: float64"
      ]
     },
     "execution_count": 162,
     "metadata": {},
     "output_type": "execute_result"
    }
   ],
   "source": [
    "df.isnull().sum()/df.shape[0]*100"
   ]
  },
  {
   "cell_type": "markdown",
   "metadata": {},
   "source": [
    "### __Limpiamos columnas irrelevantes para la clasificación__"
   ]
  },
  {
   "cell_type": "code",
   "execution_count": 163,
   "metadata": {},
   "outputs": [
    {
     "data": {
      "text/plain": [
       "Index(['title', 'magnitude', 'date_time', 'cdi', 'mmi', 'alert', 'tsunami',\n",
       "       'sig', 'net', 'nst', 'dmin', 'gap', 'magType', 'depth', 'latitude',\n",
       "       'longitude', 'location', 'continent', 'country', 'terremoto',\n",
       "       'intensidad'],\n",
       "      dtype='object')"
      ]
     },
     "execution_count": 163,
     "metadata": {},
     "output_type": "execute_result"
    }
   ],
   "source": [
    "df.columns"
   ]
  },
  {
   "cell_type": "markdown",
   "metadata": {},
   "source": [
    "*Eliminamos columnas como title, continent, alert, location,magType,net ya que son tipo objeto y se desea trabajar con columnas numericas <br> y asi evitar errores*"
   ]
  },
  {
   "cell_type": "markdown",
   "metadata": {},
   "source": [
    "*Decido quitar tambien la columna Country, ya que la calidad del data set respecto a este dato contiene la un 50% de valores Nulos*"
   ]
  },
  {
   "cell_type": "code",
   "execution_count": 164,
   "metadata": {},
   "outputs": [
    {
     "data": {
      "text/html": [
       "<div>\n",
       "<style scoped>\n",
       "    .dataframe tbody tr th:only-of-type {\n",
       "        vertical-align: middle;\n",
       "    }\n",
       "\n",
       "    .dataframe tbody tr th {\n",
       "        vertical-align: top;\n",
       "    }\n",
       "\n",
       "    .dataframe thead th {\n",
       "        text-align: right;\n",
       "    }\n",
       "</style>\n",
       "<table border=\"1\" class=\"dataframe\">\n",
       "  <thead>\n",
       "    <tr style=\"text-align: right;\">\n",
       "      <th></th>\n",
       "      <th>magnitude</th>\n",
       "      <th>date_time</th>\n",
       "      <th>cdi</th>\n",
       "      <th>mmi</th>\n",
       "      <th>tsunami</th>\n",
       "      <th>sig</th>\n",
       "      <th>nst</th>\n",
       "      <th>dmin</th>\n",
       "      <th>gap</th>\n",
       "      <th>depth</th>\n",
       "      <th>latitude</th>\n",
       "      <th>longitude</th>\n",
       "      <th>terremoto</th>\n",
       "      <th>intensidad</th>\n",
       "    </tr>\n",
       "  </thead>\n",
       "  <tbody>\n",
       "    <tr>\n",
       "      <th>0</th>\n",
       "      <td>6.5</td>\n",
       "      <td>16-08-2023 12:47</td>\n",
       "      <td>7</td>\n",
       "      <td>4</td>\n",
       "      <td>0</td>\n",
       "      <td>657</td>\n",
       "      <td>114</td>\n",
       "      <td>7.2</td>\n",
       "      <td>25.0</td>\n",
       "      <td>193.0</td>\n",
       "      <td>-13.9</td>\n",
       "      <td>167.2</td>\n",
       "      <td>1</td>\n",
       "      <td>moderado</td>\n",
       "    </tr>\n",
       "    <tr>\n",
       "      <th>1</th>\n",
       "      <td>6.5</td>\n",
       "      <td>19-07-2023 00:22</td>\n",
       "      <td>8</td>\n",
       "      <td>6</td>\n",
       "      <td>0</td>\n",
       "      <td>775</td>\n",
       "      <td>92</td>\n",
       "      <td>0.7</td>\n",
       "      <td>40.0</td>\n",
       "      <td>69.7</td>\n",
       "      <td>12.8</td>\n",
       "      <td>-88.1</td>\n",
       "      <td>1</td>\n",
       "      <td>moderado</td>\n",
       "    </tr>\n",
       "    <tr>\n",
       "      <th>2</th>\n",
       "      <td>6.6</td>\n",
       "      <td>17-07-2023 03:05</td>\n",
       "      <td>7</td>\n",
       "      <td>5</td>\n",
       "      <td>0</td>\n",
       "      <td>899</td>\n",
       "      <td>70</td>\n",
       "      <td>1.6</td>\n",
       "      <td>28.0</td>\n",
       "      <td>171.4</td>\n",
       "      <td>-38.2</td>\n",
       "      <td>-70.4</td>\n",
       "      <td>1</td>\n",
       "      <td>fuerte</td>\n",
       "    </tr>\n",
       "    <tr>\n",
       "      <th>3</th>\n",
       "      <td>7.2</td>\n",
       "      <td>16-07-2023 06:48</td>\n",
       "      <td>6</td>\n",
       "      <td>6</td>\n",
       "      <td>1</td>\n",
       "      <td>860</td>\n",
       "      <td>173</td>\n",
       "      <td>0.9</td>\n",
       "      <td>36.0</td>\n",
       "      <td>32.6</td>\n",
       "      <td>54.4</td>\n",
       "      <td>-160.7</td>\n",
       "      <td>1</td>\n",
       "      <td>fuerte</td>\n",
       "    </tr>\n",
       "    <tr>\n",
       "      <th>4</th>\n",
       "      <td>7.3</td>\n",
       "      <td>16-07-2023 06:48</td>\n",
       "      <td>0</td>\n",
       "      <td>5</td>\n",
       "      <td>1</td>\n",
       "      <td>820</td>\n",
       "      <td>79</td>\n",
       "      <td>0.9</td>\n",
       "      <td>172.8</td>\n",
       "      <td>21.0</td>\n",
       "      <td>54.5</td>\n",
       "      <td>-160.8</td>\n",
       "      <td>1</td>\n",
       "      <td>fuerte</td>\n",
       "    </tr>\n",
       "  </tbody>\n",
       "</table>\n",
       "</div>"
      ],
      "text/plain": [
       "   magnitude         date_time  cdi  mmi  tsunami  sig  nst  dmin    gap  \\\n",
       "0        6.5  16-08-2023 12:47    7    4        0  657  114   7.2   25.0   \n",
       "1        6.5  19-07-2023 00:22    8    6        0  775   92   0.7   40.0   \n",
       "2        6.6  17-07-2023 03:05    7    5        0  899   70   1.6   28.0   \n",
       "3        7.2  16-07-2023 06:48    6    6        1  860  173   0.9   36.0   \n",
       "4        7.3  16-07-2023 06:48    0    5        1  820   79   0.9  172.8   \n",
       "\n",
       "   depth  latitude  longitude  terremoto intensidad  \n",
       "0  193.0     -13.9      167.2          1   moderado  \n",
       "1   69.7      12.8      -88.1          1   moderado  \n",
       "2  171.4     -38.2      -70.4          1     fuerte  \n",
       "3   32.6      54.4     -160.7          1     fuerte  \n",
       "4   21.0      54.5     -160.8          1     fuerte  "
      ]
     },
     "execution_count": 164,
     "metadata": {},
     "output_type": "execute_result"
    }
   ],
   "source": [
    "df.drop(['title', 'continent', 'alert','location','country','magType','net'],axis=1,inplace=True)\n",
    "df.head()"
   ]
  },
  {
   "cell_type": "markdown",
   "metadata": {},
   "source": [
    "*Conversion de de la columna date_time que es tipo objeto en un formato fecha y hora, permitiendonos extraer <br> componentes especificos como año, mes, dia, etc*"
   ]
  },
  {
   "cell_type": "code",
   "execution_count": 165,
   "metadata": {},
   "outputs": [
    {
     "name": "stderr",
     "output_type": "stream",
     "text": [
      "C:\\Users\\User\\AppData\\Local\\Temp\\ipykernel_43072\\1166509542.py:1: UserWarning: Parsing dates in %d-%m-%Y %H:%M format when dayfirst=False (the default) was specified. Pass `dayfirst=True` or specify a format to silence this warning.\n",
      "  df['date_time']=pd.to_datetime(df['date_time'])\n"
     ]
    },
    {
     "data": {
      "text/html": [
       "<div>\n",
       "<style scoped>\n",
       "    .dataframe tbody tr th:only-of-type {\n",
       "        vertical-align: middle;\n",
       "    }\n",
       "\n",
       "    .dataframe tbody tr th {\n",
       "        vertical-align: top;\n",
       "    }\n",
       "\n",
       "    .dataframe thead th {\n",
       "        text-align: right;\n",
       "    }\n",
       "</style>\n",
       "<table border=\"1\" class=\"dataframe\">\n",
       "  <thead>\n",
       "    <tr style=\"text-align: right;\">\n",
       "      <th></th>\n",
       "      <th>magnitude</th>\n",
       "      <th>cdi</th>\n",
       "      <th>mmi</th>\n",
       "      <th>tsunami</th>\n",
       "      <th>sig</th>\n",
       "      <th>nst</th>\n",
       "      <th>dmin</th>\n",
       "      <th>gap</th>\n",
       "      <th>depth</th>\n",
       "      <th>latitude</th>\n",
       "      <th>longitude</th>\n",
       "      <th>terremoto</th>\n",
       "      <th>intensidad</th>\n",
       "      <th>Year</th>\n",
       "      <th>Month</th>\n",
       "    </tr>\n",
       "  </thead>\n",
       "  <tbody>\n",
       "    <tr>\n",
       "      <th>0</th>\n",
       "      <td>6.5</td>\n",
       "      <td>7</td>\n",
       "      <td>4</td>\n",
       "      <td>0</td>\n",
       "      <td>657</td>\n",
       "      <td>114</td>\n",
       "      <td>7.2</td>\n",
       "      <td>25.0</td>\n",
       "      <td>193.0</td>\n",
       "      <td>-13.9</td>\n",
       "      <td>167.2</td>\n",
       "      <td>1</td>\n",
       "      <td>moderado</td>\n",
       "      <td>2023</td>\n",
       "      <td>8</td>\n",
       "    </tr>\n",
       "    <tr>\n",
       "      <th>1</th>\n",
       "      <td>6.5</td>\n",
       "      <td>8</td>\n",
       "      <td>6</td>\n",
       "      <td>0</td>\n",
       "      <td>775</td>\n",
       "      <td>92</td>\n",
       "      <td>0.7</td>\n",
       "      <td>40.0</td>\n",
       "      <td>69.7</td>\n",
       "      <td>12.8</td>\n",
       "      <td>-88.1</td>\n",
       "      <td>1</td>\n",
       "      <td>moderado</td>\n",
       "      <td>2023</td>\n",
       "      <td>7</td>\n",
       "    </tr>\n",
       "    <tr>\n",
       "      <th>2</th>\n",
       "      <td>6.6</td>\n",
       "      <td>7</td>\n",
       "      <td>5</td>\n",
       "      <td>0</td>\n",
       "      <td>899</td>\n",
       "      <td>70</td>\n",
       "      <td>1.6</td>\n",
       "      <td>28.0</td>\n",
       "      <td>171.4</td>\n",
       "      <td>-38.2</td>\n",
       "      <td>-70.4</td>\n",
       "      <td>1</td>\n",
       "      <td>fuerte</td>\n",
       "      <td>2023</td>\n",
       "      <td>7</td>\n",
       "    </tr>\n",
       "    <tr>\n",
       "      <th>3</th>\n",
       "      <td>7.2</td>\n",
       "      <td>6</td>\n",
       "      <td>6</td>\n",
       "      <td>1</td>\n",
       "      <td>860</td>\n",
       "      <td>173</td>\n",
       "      <td>0.9</td>\n",
       "      <td>36.0</td>\n",
       "      <td>32.6</td>\n",
       "      <td>54.4</td>\n",
       "      <td>-160.7</td>\n",
       "      <td>1</td>\n",
       "      <td>fuerte</td>\n",
       "      <td>2023</td>\n",
       "      <td>7</td>\n",
       "    </tr>\n",
       "    <tr>\n",
       "      <th>4</th>\n",
       "      <td>7.3</td>\n",
       "      <td>0</td>\n",
       "      <td>5</td>\n",
       "      <td>1</td>\n",
       "      <td>820</td>\n",
       "      <td>79</td>\n",
       "      <td>0.9</td>\n",
       "      <td>172.8</td>\n",
       "      <td>21.0</td>\n",
       "      <td>54.5</td>\n",
       "      <td>-160.8</td>\n",
       "      <td>1</td>\n",
       "      <td>fuerte</td>\n",
       "      <td>2023</td>\n",
       "      <td>7</td>\n",
       "    </tr>\n",
       "  </tbody>\n",
       "</table>\n",
       "</div>"
      ],
      "text/plain": [
       "   magnitude  cdi  mmi  tsunami  sig  nst  dmin    gap  depth  latitude  \\\n",
       "0        6.5    7    4        0  657  114   7.2   25.0  193.0     -13.9   \n",
       "1        6.5    8    6        0  775   92   0.7   40.0   69.7      12.8   \n",
       "2        6.6    7    5        0  899   70   1.6   28.0  171.4     -38.2   \n",
       "3        7.2    6    6        1  860  173   0.9   36.0   32.6      54.4   \n",
       "4        7.3    0    5        1  820   79   0.9  172.8   21.0      54.5   \n",
       "\n",
       "   longitude  terremoto intensidad  Year  Month  \n",
       "0      167.2          1   moderado  2023      8  \n",
       "1      -88.1          1   moderado  2023      7  \n",
       "2      -70.4          1     fuerte  2023      7  \n",
       "3     -160.7          1     fuerte  2023      7  \n",
       "4     -160.8          1     fuerte  2023      7  "
      ]
     },
     "execution_count": 165,
     "metadata": {},
     "output_type": "execute_result"
    }
   ],
   "source": [
    "df['date_time']=pd.to_datetime(df['date_time'])\n",
    "df['Year']=pd.DatetimeIndex(df[\"date_time\"]).year\n",
    "df['Month']=pd.DatetimeIndex(df[\"date_time\"]).month\n",
    "df.drop('date_time',axis=1,inplace=True)\n",
    "df.head()"
   ]
  },
  {
   "cell_type": "markdown",
   "metadata": {},
   "source": [
    "*Observamos que nuestro dataframe con el proceso que le estamos realizando de limpieza, ya no contiene valores nulos*"
   ]
  },
  {
   "cell_type": "code",
   "execution_count": 166,
   "metadata": {},
   "outputs": [
    {
     "data": {
      "text/plain": [
       "magnitude     0\n",
       "cdi           0\n",
       "mmi           0\n",
       "tsunami       0\n",
       "sig           0\n",
       "nst           0\n",
       "dmin          0\n",
       "gap           0\n",
       "depth         0\n",
       "latitude      0\n",
       "longitude     0\n",
       "terremoto     0\n",
       "intensidad    0\n",
       "Year          0\n",
       "Month         0\n",
       "dtype: int64"
      ]
     },
     "execution_count": 166,
     "metadata": {},
     "output_type": "execute_result"
    }
   ],
   "source": [
    "df.isnull().sum()"
   ]
  },
  {
   "cell_type": "markdown",
   "metadata": {},
   "source": [
    "### __<center>Distribucion Cantidad de terremotos ocurridos en diferentes Magnitudes</center>__"
   ]
  },
  {
   "cell_type": "code",
   "execution_count": 167,
   "metadata": {},
   "outputs": [
    {
     "data": {
      "text/plain": [
       "<Axes: xlabel='magnitude', ylabel='count'>"
      ]
     },
     "execution_count": 167,
     "metadata": {},
     "output_type": "execute_result"
    },
    {
     "data": {
      "image/png": "[encoded data removed]",
      "text/plain": [
       "<Figure size 1000x500 with 1 Axes>"
      ]
     },
     "metadata": {},
     "output_type": "display_data"
    }
   ],
   "source": [
    "plt.figure(figsize=(10,5))\n",
    "sns.countplot(x='magnitude',data=df)\n"
   ]
  },
  {
   "cell_type": "code",
   "execution_count": 168,
   "metadata": {},
   "outputs": [
    {
     "data": {
      "text/plain": [
       "Text(0.5, 1.0, 'TOP 15 terremotos x año')"
      ]
     },
     "execution_count": 168,
     "metadata": {},
     "output_type": "execute_result"
    },
    {
     "data": {
      "image/png": "[encoded data removed]",
      "text/plain": [
       "<Figure size 1500x500 with 1 Axes>"
      ]
     },
     "metadata": {},
     "output_type": "display_data"
    }
   ],
   "source": [
    "o=df['Year'].value_counts().head(15).index\n",
    "plt.figure(figsize=(15,5))\n",
    "sns.countplot(x='Year',data=df,order=o)\n",
    "plt.xticks(rotation=60)\n",
    "plt.title('TOP 15 terremotos x año')\n",
    "#Indonesia has the highest number of earthquakes."
   ]
  },
  {
   "cell_type": "markdown",
   "metadata": {},
   "source": [
    "-__sig:__ Es un número que describe la importancia del evento. Los números <br>más grandes indican un evento más significativo. Este valor se determina en función <br>de una serie de factores, que incluyen: magnitud, MMI máximo \"La intensidad instrumental máxima estimada para el evento.\", informes sentidos e impacto estimado.<br> Por lo tanto observamos en la grafica como los valores en naranja referentes a Sig son asignados a las magnitudes mas fuertes, concluyendo que entre mas alto el sig mas fuerte es el evento sismico."
   ]
  },
  {
   "cell_type": "code",
   "execution_count": 169,
   "metadata": {},
   "outputs": [
    {
     "data": {
      "image/png": "[encoded data removed]",
      "text/plain": [
       "<Figure size 640x480 with 1 Axes>"
      ]
     },
     "metadata": {},
     "output_type": "display_data"
    }
   ],
   "source": [
    "sns.scatterplot(x='sig',y='magnitude',data=df,hue='intensidad')\n",
    "plt.ylim(3, 9.5)  # Ajusta los límites según tus necesidades\n",
    "plt.show()"
   ]
  },
  {
   "cell_type": "markdown",
   "metadata": {},
   "source": [
    "## <center>codificación de etiquetas</center> <br>\n",
    "*convertimos datos categóricos en datos numéricos. Este suele ser un paso necesario en el aprendizaje automático, ya que la mayoría de los algoritmos funcionan con datos numéricos, por lo tanto en la columna intensidad quedaria el dato categorico moderado=1 y Fuerte=0*"
   ]
  },
  {
   "cell_type": "markdown",
   "metadata": {},
   "source": [
    "*Visualizacion de Columnas tipo object para ser transformadas para su uso posterior, ya que se necesita usar intensidad como variable objetivo y el algoritmo no detecta en el tipo object, solamente numerico*"
   ]
  },
  {
   "cell_type": "code",
   "execution_count": 170,
   "metadata": {},
   "outputs": [
    {
     "data": {
      "text/html": [
       "<div>\n",
       "<style scoped>\n",
       "    .dataframe tbody tr th:only-of-type {\n",
       "        vertical-align: middle;\n",
       "    }\n",
       "\n",
       "    .dataframe tbody tr th {\n",
       "        vertical-align: top;\n",
       "    }\n",
       "\n",
       "    .dataframe thead th {\n",
       "        text-align: right;\n",
       "    }\n",
       "</style>\n",
       "<table border=\"1\" class=\"dataframe\">\n",
       "  <thead>\n",
       "    <tr style=\"text-align: right;\">\n",
       "      <th></th>\n",
       "      <th>intensidad</th>\n",
       "    </tr>\n",
       "  </thead>\n",
       "  <tbody>\n",
       "    <tr>\n",
       "      <th>0</th>\n",
       "      <td>moderado</td>\n",
       "    </tr>\n",
       "    <tr>\n",
       "      <th>1</th>\n",
       "      <td>moderado</td>\n",
       "    </tr>\n",
       "    <tr>\n",
       "      <th>2</th>\n",
       "      <td>fuerte</td>\n",
       "    </tr>\n",
       "    <tr>\n",
       "      <th>3</th>\n",
       "      <td>fuerte</td>\n",
       "    </tr>\n",
       "    <tr>\n",
       "      <th>4</th>\n",
       "      <td>fuerte</td>\n",
       "    </tr>\n",
       "  </tbody>\n",
       "</table>\n",
       "</div>"
      ],
      "text/plain": [
       "  intensidad\n",
       "0   moderado\n",
       "1   moderado\n",
       "2     fuerte\n",
       "3     fuerte\n",
       "4     fuerte"
      ]
     },
     "execution_count": 170,
     "metadata": {},
     "output_type": "execute_result"
    }
   ],
   "source": [
    "obj=df.select_dtypes(include=['object'])\n",
    "obj.head()"
   ]
  },
  {
   "cell_type": "markdown",
   "metadata": {},
   "source": [
    "## __A DESTACAR__"
   ]
  },
  {
   "cell_type": "markdown",
   "metadata": {},
   "source": [
    "*En la siguiente celda realizo la transformacion de los datos categoricos con labelencoder, y sucedio que genera otra columna adicional llamada tambien intensidad colocando el 1 a moderado y el 0 a fuerte, generando un error a la hora de realizar regresion logistica, esto se debe a que el dataframe continuo tambien detectando la columna intensidad con las variables categoricas fuerte y moderado tomando como tipo string, la solucion fue crear una funcion sencilla con un If para mapear unicamente los valores de cada celda y convertirlos de acuerdo a nuestra condicion*"
   ]
  },
  {
   "cell_type": "code",
   "execution_count": 171,
   "metadata": {},
   "outputs": [
    {
     "data": {
      "text/html": [
       "<div>\n",
       "<style scoped>\n",
       "    .dataframe tbody tr th:only-of-type {\n",
       "        vertical-align: middle;\n",
       "    }\n",
       "\n",
       "    .dataframe tbody tr th {\n",
       "        vertical-align: top;\n",
       "    }\n",
       "\n",
       "    .dataframe thead th {\n",
       "        text-align: right;\n",
       "    }\n",
       "</style>\n",
       "<table border=\"1\" class=\"dataframe\">\n",
       "  <thead>\n",
       "    <tr style=\"text-align: right;\">\n",
       "      <th></th>\n",
       "      <th>magnitude</th>\n",
       "      <th>cdi</th>\n",
       "      <th>mmi</th>\n",
       "      <th>tsunami</th>\n",
       "      <th>sig</th>\n",
       "      <th>nst</th>\n",
       "      <th>dmin</th>\n",
       "      <th>gap</th>\n",
       "      <th>depth</th>\n",
       "      <th>latitude</th>\n",
       "      <th>longitude</th>\n",
       "      <th>terremoto</th>\n",
       "      <th>intensidad</th>\n",
       "      <th>Year</th>\n",
       "      <th>Month</th>\n",
       "    </tr>\n",
       "  </thead>\n",
       "  <tbody>\n",
       "    <tr>\n",
       "      <th>0</th>\n",
       "      <td>6.5</td>\n",
       "      <td>7</td>\n",
       "      <td>4</td>\n",
       "      <td>0</td>\n",
       "      <td>657</td>\n",
       "      <td>114</td>\n",
       "      <td>7.2</td>\n",
       "      <td>25.0</td>\n",
       "      <td>193.0</td>\n",
       "      <td>-13.9</td>\n",
       "      <td>167.2</td>\n",
       "      <td>1</td>\n",
       "      <td>1</td>\n",
       "      <td>2023</td>\n",
       "      <td>8</td>\n",
       "    </tr>\n",
       "    <tr>\n",
       "      <th>1</th>\n",
       "      <td>6.5</td>\n",
       "      <td>8</td>\n",
       "      <td>6</td>\n",
       "      <td>0</td>\n",
       "      <td>775</td>\n",
       "      <td>92</td>\n",
       "      <td>0.7</td>\n",
       "      <td>40.0</td>\n",
       "      <td>69.7</td>\n",
       "      <td>12.8</td>\n",
       "      <td>-88.1</td>\n",
       "      <td>1</td>\n",
       "      <td>1</td>\n",
       "      <td>2023</td>\n",
       "      <td>7</td>\n",
       "    </tr>\n",
       "    <tr>\n",
       "      <th>2</th>\n",
       "      <td>6.6</td>\n",
       "      <td>7</td>\n",
       "      <td>5</td>\n",
       "      <td>0</td>\n",
       "      <td>899</td>\n",
       "      <td>70</td>\n",
       "      <td>1.6</td>\n",
       "      <td>28.0</td>\n",
       "      <td>171.4</td>\n",
       "      <td>-38.2</td>\n",
       "      <td>-70.4</td>\n",
       "      <td>1</td>\n",
       "      <td>0</td>\n",
       "      <td>2023</td>\n",
       "      <td>7</td>\n",
       "    </tr>\n",
       "    <tr>\n",
       "      <th>3</th>\n",
       "      <td>7.2</td>\n",
       "      <td>6</td>\n",
       "      <td>6</td>\n",
       "      <td>1</td>\n",
       "      <td>860</td>\n",
       "      <td>173</td>\n",
       "      <td>0.9</td>\n",
       "      <td>36.0</td>\n",
       "      <td>32.6</td>\n",
       "      <td>54.4</td>\n",
       "      <td>-160.7</td>\n",
       "      <td>1</td>\n",
       "      <td>0</td>\n",
       "      <td>2023</td>\n",
       "      <td>7</td>\n",
       "    </tr>\n",
       "    <tr>\n",
       "      <th>4</th>\n",
       "      <td>7.3</td>\n",
       "      <td>0</td>\n",
       "      <td>5</td>\n",
       "      <td>1</td>\n",
       "      <td>820</td>\n",
       "      <td>79</td>\n",
       "      <td>0.9</td>\n",
       "      <td>172.8</td>\n",
       "      <td>21.0</td>\n",
       "      <td>54.5</td>\n",
       "      <td>-160.8</td>\n",
       "      <td>1</td>\n",
       "      <td>0</td>\n",
       "      <td>2023</td>\n",
       "      <td>7</td>\n",
       "    </tr>\n",
       "  </tbody>\n",
       "</table>\n",
       "</div>"
      ],
      "text/plain": [
       "   magnitude  cdi  mmi  tsunami  sig  nst  dmin    gap  depth  latitude  \\\n",
       "0        6.5    7    4        0  657  114   7.2   25.0  193.0     -13.9   \n",
       "1        6.5    8    6        0  775   92   0.7   40.0   69.7      12.8   \n",
       "2        6.6    7    5        0  899   70   1.6   28.0  171.4     -38.2   \n",
       "3        7.2    6    6        1  860  173   0.9   36.0   32.6      54.4   \n",
       "4        7.3    0    5        1  820   79   0.9  172.8   21.0      54.5   \n",
       "\n",
       "   longitude  terremoto  intensidad  Year  Month  \n",
       "0      167.2          1           1  2023      8  \n",
       "1      -88.1          1           1  2023      7  \n",
       "2      -70.4          1           0  2023      7  \n",
       "3     -160.7          1           0  2023      7  \n",
       "4     -160.8          1           0  2023      7  "
      ]
     },
     "execution_count": 171,
     "metadata": {},
     "output_type": "execute_result"
    }
   ],
   "source": [
    "'''obj=df.select_dtypes(include=['object'])\n",
    "obj.head()\n",
    "obj=obj.apply(LabelEncoder().fit_transform)\n",
    "df=pd.concat([df,obj],axis=1)\n",
    "df.head()'''\n",
    "#SOLUCION\n",
    "def mapear_intensidad(valor):\n",
    "    if valor == 'moderado':\n",
    "        return 1\n",
    "    elif valor == 'fuerte':\n",
    "        return 0\n",
    "  \n",
    "df['intensidad'] = df['intensidad'].apply(mapear_intensidad)\n",
    "df.head(5)"
   ]
  },
  {
   "cell_type": "markdown",
   "metadata": {},
   "source": [
    "## <CENTER>__MATRIX DE CORRELACION__</CENTER>"
   ]
  },
  {
   "cell_type": "code",
   "execution_count": 172,
   "metadata": {},
   "outputs": [
    {
     "data": {
      "text/plain": [
       "<Axes: >"
      ]
     },
     "execution_count": 172,
     "metadata": {},
     "output_type": "execute_result"
    },
    {
     "data": {
      "image/png": "[encoded data removed]",
      "text/plain": [
       "<Figure size 2000x1000 with 2 Axes>"
      ]
     },
     "metadata": {},
     "output_type": "display_data"
    }
   ],
   "source": [
    "d=df.corr()\n",
    "d=d[(d>0.3) | (d<-0.3)]\n",
    "plt.figure(figsize=(20,10))\n",
    "sns.heatmap(d,annot=True)"
   ]
  },
  {
   "cell_type": "markdown",
   "metadata": {},
   "source": [
    "##### __<CENTER>SELECCION DE LA VARIABLE Y OBJETIVO Y LAS CARACTERISTICAS X INFLUYENTES</CENTER>__"
   ]
  },
  {
   "cell_type": "code",
   "execution_count": 173,
   "metadata": {},
   "outputs": [],
   "source": [
    "X = df[['magnitude', 'cdi', 'mmi',  'sig', 'nst', 'dmin',  'Year', 'Month']]\n",
    "y = df['intensidad']\n"
   ]
  },
  {
   "cell_type": "markdown",
   "metadata": {},
   "source": [
    "##### __<CENTER>DIVISION EN CONJUNTO DE ENTRENAMIENTO Y PRUEBA</CENTER>__"
   ]
  },
  {
   "cell_type": "code",
   "execution_count": 174,
   "metadata": {},
   "outputs": [],
   "source": [
    "X_train, X_test, y_train, y_test = train_test_split(X, y, test_size=0.3, random_state=42)\n"
   ]
  },
  {
   "cell_type": "markdown",
   "metadata": {},
   "source": [
    "#### __<CENTER>CREAMOS EL MODELO DE REGRESION LOGISTICA</CENTER>__"
   ]
  },
  {
   "cell_type": "code",
   "execution_count": 175,
   "metadata": {},
   "outputs": [],
   "source": [
    "model = LogisticRegression() "
   ]
  },
  {
   "cell_type": "markdown",
   "metadata": {},
   "source": [
    "#### __<CENTER>ENTRENAMIENTO DEL MODELO</CENTER>__"
   ]
  },
  {
   "cell_type": "code",
   "execution_count": 176,
   "metadata": {},
   "outputs": [
    {
     "name": "stderr",
     "output_type": "stream",
     "text": [
      "c:\\Users\\User\\AppData\\Local\\Programs\\Python\\Python312\\Lib\\site-packages\\sklearn\\linear_model\\_logistic.py:469: ConvergenceWarning: lbfgs failed to converge (status=1):\n",
      "STOP: TOTAL NO. of ITERATIONS REACHED LIMIT.\n",
      "\n",
      "Increase the number of iterations (max_iter) or scale the data as shown in:\n",
      "    https://scikit-learn.org/stable/modules/preprocessing.html\n",
      "Please also refer to the documentation for alternative solver options:\n",
      "    https://scikit-learn.org/stable/modules/linear_model.html#logistic-regression\n",
      "  n_iter_i = _check_optimize_result(\n"
     ]
    }
   ],
   "source": [
    "\n",
    "model.fit(X_train, y_train)\n",
    "y_pred = model.predict(X_test)\n"
   ]
  },
  {
   "cell_type": "markdown",
   "metadata": {},
   "source": [
    "#### __<CENTER>METRICAS DE CLASIFICACION</CENTER>__"
   ]
  },
  {
   "cell_type": "markdown",
   "metadata": {},
   "source": [
    "Estas metricas nos proporcionan una evaluacion detallada del desempeño del modelo de clasificacion."
   ]
  },
  {
   "cell_type": "code",
   "execution_count": 177,
   "metadata": {},
   "outputs": [
    {
     "name": "stdout",
     "output_type": "stream",
     "text": [
      "Informe de Clasificación:\n",
      "               precision    recall  f1-score   support\n",
      "\n",
      "           0       0.91      0.95      0.93       259\n",
      "           1       0.55      0.41      0.47        41\n",
      "\n",
      "    accuracy                           0.87       300\n",
      "   macro avg       0.73      0.68      0.70       300\n",
      "weighted avg       0.86      0.87      0.87       300\n",
      "\n"
     ]
    }
   ],
   "source": [
    "accuracy = accuracy_score(y_test,\n",
    " y_pred)\n",
    "print(\"Informe de Clasificación:\\n\", classification_report(y_test, y_pred))"
   ]
  },
  {
   "cell_type": "code",
   "execution_count": 178,
   "metadata": {},
   "outputs": [
    {
     "data": {
      "text/html": [
       "<style type=\"text/css\">\n",
       "#T_28849_row0_col0, #T_28849_row0_col1, #T_28849_row0_col2, #T_28849_row3_col3, #T_28849_row4_col3 {\n",
       "  background-color: #00441b;\n",
       "  color: #f1f1f1;\n",
       "}\n",
       "#T_28849_row0_col3 {\n",
       "  background-color: #03702e;\n",
       "  color: #f1f1f1;\n",
       "}\n",
       "#T_28849_row1_col0, #T_28849_row1_col1, #T_28849_row1_col2, #T_28849_row2_col3 {\n",
       "  background-color: #f7fcf5;\n",
       "  color: #000000;\n",
       "}\n",
       "#T_28849_row1_col3 {\n",
       "  background-color: #e3f4de;\n",
       "  color: #000000;\n",
       "}\n",
       "#T_28849_row2_col0 {\n",
       "  background-color: #006529;\n",
       "  color: #f1f1f1;\n",
       "}\n",
       "#T_28849_row2_col1, #T_28849_row4_col0, #T_28849_row4_col1, #T_28849_row4_col2 {\n",
       "  background-color: #026f2e;\n",
       "  color: #f1f1f1;\n",
       "}\n",
       "#T_28849_row2_col2 {\n",
       "  background-color: #006b2b;\n",
       "  color: #f1f1f1;\n",
       "}\n",
       "#T_28849_row3_col0, #T_28849_row3_col1 {\n",
       "  background-color: #73c476;\n",
       "  color: #000000;\n",
       "}\n",
       "#T_28849_row3_col2 {\n",
       "  background-color: #75c477;\n",
       "  color: #000000;\n",
       "}\n",
       "</style>\n",
       "<table id=\"T_28849\">\n",
       "  <thead>\n",
       "    <tr>\n",
       "      <th class=\"blank level0\" >&nbsp;</th>\n",
       "      <th id=\"T_28849_level0_col0\" class=\"col_heading level0 col0\" >precision</th>\n",
       "      <th id=\"T_28849_level0_col1\" class=\"col_heading level0 col1\" >recall</th>\n",
       "      <th id=\"T_28849_level0_col2\" class=\"col_heading level0 col2\" >f1-score</th>\n",
       "      <th id=\"T_28849_level0_col3\" class=\"col_heading level0 col3\" >support</th>\n",
       "    </tr>\n",
       "  </thead>\n",
       "  <tbody>\n",
       "    <tr>\n",
       "      <th id=\"T_28849_level0_row0\" class=\"row_heading level0 row0\" >0</th>\n",
       "      <td id=\"T_28849_row0_col0\" class=\"data row0 col0\" >0.911</td>\n",
       "      <td id=\"T_28849_row0_col1\" class=\"data row0 col1\" >0.946</td>\n",
       "      <td id=\"T_28849_row0_col2\" class=\"data row0 col2\" >0.928</td>\n",
       "      <td id=\"T_28849_row0_col3\" class=\"data row0 col3\" >259.000</td>\n",
       "    </tr>\n",
       "    <tr>\n",
       "      <th id=\"T_28849_level0_row1\" class=\"row_heading level0 row1\" >1</th>\n",
       "      <td id=\"T_28849_row1_col0\" class=\"data row1 col0\" >0.548</td>\n",
       "      <td id=\"T_28849_row1_col1\" class=\"data row1 col1\" >0.415</td>\n",
       "      <td id=\"T_28849_row1_col2\" class=\"data row1 col2\" >0.472</td>\n",
       "      <td id=\"T_28849_row1_col3\" class=\"data row1 col3\" >41.000</td>\n",
       "    </tr>\n",
       "    <tr>\n",
       "      <th id=\"T_28849_level0_row2\" class=\"row_heading level0 row2\" >accuracy</th>\n",
       "      <td id=\"T_28849_row2_col0\" class=\"data row2 col0\" >0.873</td>\n",
       "      <td id=\"T_28849_row2_col1\" class=\"data row2 col1\" >0.873</td>\n",
       "      <td id=\"T_28849_row2_col2\" class=\"data row2 col2\" >0.873</td>\n",
       "      <td id=\"T_28849_row2_col3\" class=\"data row2 col3\" >0.873</td>\n",
       "    </tr>\n",
       "    <tr>\n",
       "      <th id=\"T_28849_level0_row3\" class=\"row_heading level0 row3\" >macro avg</th>\n",
       "      <td id=\"T_28849_row3_col0\" class=\"data row3 col0\" >0.730</td>\n",
       "      <td id=\"T_28849_row3_col1\" class=\"data row3 col1\" >0.680</td>\n",
       "      <td id=\"T_28849_row3_col2\" class=\"data row3 col2\" >0.700</td>\n",
       "      <td id=\"T_28849_row3_col3\" class=\"data row3 col3\" >300.000</td>\n",
       "    </tr>\n",
       "    <tr>\n",
       "      <th id=\"T_28849_level0_row4\" class=\"row_heading level0 row4\" >weighted avg</th>\n",
       "      <td id=\"T_28849_row4_col0\" class=\"data row4 col0\" >0.861</td>\n",
       "      <td id=\"T_28849_row4_col1\" class=\"data row4 col1\" >0.873</td>\n",
       "      <td id=\"T_28849_row4_col2\" class=\"data row4 col2\" >0.866</td>\n",
       "      <td id=\"T_28849_row4_col3\" class=\"data row4 col3\" >300.000</td>\n",
       "    </tr>\n",
       "  </tbody>\n",
       "</table>\n"
      ],
      "text/plain": [
       "<pandas.io.formats.style.Styler at 0x28c53eeb7d0>"
      ]
     },
     "execution_count": 178,
     "metadata": {},
     "output_type": "execute_result"
    }
   ],
   "source": [
    "# Crear un DataFrame con los resultados del informe de clasificación\n",
    "report = classification_report(y_test, y_pred, output_dict=True)\n",
    "df = pd.DataFrame(report).transpose()\n",
    "\n",
    "# Aplicar estilos a la tabla\n",
    "df.style.background_gradient(cmap='Greens').format(\"{:.3f}\")"
   ]
  },
  {
   "cell_type": "code",
   "execution_count": 179,
   "metadata": {},
   "outputs": [
    {
     "data": {
      "image/png": "[encoded data removed]",
      "text/plain": [
       "<Figure size 640x480 with 2 Axes>"
      ]
     },
     "metadata": {},
     "output_type": "display_data"
    }
   ],
   "source": [
    "confusion_matrix(y_test, y_pred)\n",
    "cm = confusion_matrix(y_test, y_pred)\n",
    "sns.heatmap(cm, annot=True, fmt=\"d\")\n",
    "plt.title('Matriz de Confusión')\n",
    "plt.ylabel('Valores Reales')\n",
    "plt.xlabel('Valores Predichos')\n",
    "plt.show()"
   ]
  },
  {
   "cell_type": "code",
   "execution_count": 180,
   "metadata": {},
   "outputs": [
    {
     "data": {
      "text/plain": [
       "['modelo_terremotos.pkl']"
      ]
     },
     "execution_count": 180,
     "metadata": {},
     "output_type": "execute_result"
    }
   ],
   "source": [
    "\n",
    "joblib.dump(model, 'modelo_terremotos.pkl')"
   ]
  },
  {
   "cell_type": "code",
   "execution_count": 181,
   "metadata": {},
   "outputs": [
    {
     "data": {
      "image/png": "[encoded data removed]",
      "text/plain": [
       "<Figure size 640x480 with 1 Axes>"
      ]
     },
     "metadata": {},
     "output_type": "display_data"
    },
    {
     "data": {
      "text/plain": [
       "Text(0.5, 1.0, 'Histograma de errores')"
      ]
     },
     "execution_count": 181,
     "metadata": {},
     "output_type": "execute_result"
    },
    {
     "data": {
      "image/png": "[encoded data removed]",
      "text/plain": [
       "<Figure size 640x480 with 1 Axes>"
      ]
     },
     "metadata": {},
     "output_type": "display_data"
    }
   ],
   "source": [
    "# Calcular las probabilidades de pertenecer a la clase positiva\n",
    "y_pred = model.predict_proba(X_test)[:, 1]\n",
    "\n",
    "# Curva ROC\n",
    "fpr, tpr, thresholds = roc_curve(y_test, y_pred)\n",
    "roc_auc = roc_auc_score(y_test, y_pred)\n",
    "\n",
    "plt.plot(fpr, tpr, color='darkorange', label='ROC curve (area = %0.2f)' % roc_auc)\n",
    "plt.plot([0, 1], [0, 1], color='navy', linestyle='--')\n",
    "plt.xlim([0.0, 1.0])\n",
    "plt.ylim([0.0, 1.05])\n",
    "plt.xlabel('Tasa de Falsos Positivos')\n",
    "plt.ylabel('Tasa de Verdaderos Positivos')\n",
    "plt.title('Curva ROC')\n",
    "plt.legend(loc=\"lower right\")\n",
    "\n",
    "plt.show()\n",
    "\n",
    "# Histograma de errores\n",
    "errors = np.abs(y_test - y_pred)\n",
    "plt.hist(errors, bins=10)\n",
    "plt.xlabel('Error absoluto')\n",
    "plt.ylabel('Frecuencia')\n",
    "plt.title('Histograma de errores')"
   ]
  },
  {
   "cell_type": "markdown",
   "metadata": {},
   "source": [
    "### __<center>CONCLUSIONES</center>__\n",
    "__Desempeño General Bueno:__ El modelo tiene una precisión general del 87%, lo cual indica que en la mayoría de los casos está clasificando correctamente las instancias.<br>\n",
    "__Desequilibrio en las Clases:__ La clase 0 está sobre-representada (259 instancias) en comparación con la clase 1 (41 instancias). Esto puede influir en el desempeño del modelo, especialmente en la clase minoritaria.<br>\n",
    "__Clase 0 Bien Clasificada:__ La clase 0 tiene una precisión, recall y F1-score altos, lo que sugiere que el modelo es muy bueno en identificar correctamente las instancias de esta clase.<br>\n",
    "__Desempeño Débil en la Clase 1:__ La clase 1 muestra valores más bajos en precisión, recall y F1-score. Esto indica que el modelo tiene dificultades para identificar correctamente las instancias de esta clase minoritaria."
   ]
  },
  {
   "cell_type": "markdown",
   "metadata": {},
   "source": [
    "### __<center>AJUSTE DEL MODELO</center>"
   ]
  },
  {
   "cell_type": "code",
   "execution_count": 182,
   "metadata": {},
   "outputs": [
    {
     "name": "stderr",
     "output_type": "stream",
     "text": [
      "C:\\Users\\User\\AppData\\Local\\Temp\\ipykernel_43072\\835356500.py:10: UserWarning: Parsing dates in %d-%m-%Y %H:%M format when dayfirst=False (the default) was specified. Pass `dayfirst=True` or specify a format to silence this warning.\n",
      "  df['date_time']=pd.to_datetime(df['date_time'])\n"
     ]
    },
    {
     "data": {
      "text/html": [
       "<div>\n",
       "<style scoped>\n",
       "    .dataframe tbody tr th:only-of-type {\n",
       "        vertical-align: middle;\n",
       "    }\n",
       "\n",
       "    .dataframe tbody tr th {\n",
       "        vertical-align: top;\n",
       "    }\n",
       "\n",
       "    .dataframe thead th {\n",
       "        text-align: right;\n",
       "    }\n",
       "</style>\n",
       "<table border=\"1\" class=\"dataframe\">\n",
       "  <thead>\n",
       "    <tr style=\"text-align: right;\">\n",
       "      <th></th>\n",
       "      <th>title</th>\n",
       "      <th>magnitude</th>\n",
       "      <th>cdi</th>\n",
       "      <th>mmi</th>\n",
       "      <th>alert</th>\n",
       "      <th>tsunami</th>\n",
       "      <th>sig</th>\n",
       "      <th>net</th>\n",
       "      <th>nst</th>\n",
       "      <th>dmin</th>\n",
       "      <th>gap</th>\n",
       "      <th>magType</th>\n",
       "      <th>depth</th>\n",
       "      <th>latitude</th>\n",
       "      <th>longitude</th>\n",
       "      <th>location</th>\n",
       "      <th>continent</th>\n",
       "      <th>country</th>\n",
       "      <th>terremoto</th>\n",
       "      <th>intensidad</th>\n",
       "      <th>Year</th>\n",
       "      <th>Month</th>\n",
       "    </tr>\n",
       "  </thead>\n",
       "  <tbody>\n",
       "    <tr>\n",
       "      <th>0</th>\n",
       "      <td>M 6.5 - 42 km W of Sola, Vanuatu</td>\n",
       "      <td>6.5</td>\n",
       "      <td>7</td>\n",
       "      <td>4</td>\n",
       "      <td>green</td>\n",
       "      <td>0</td>\n",
       "      <td>657</td>\n",
       "      <td>us</td>\n",
       "      <td>114</td>\n",
       "      <td>7.2</td>\n",
       "      <td>25.0</td>\n",
       "      <td>mww</td>\n",
       "      <td>193.0</td>\n",
       "      <td>-13.9</td>\n",
       "      <td>167.2</td>\n",
       "      <td>Sola, Vanuatu</td>\n",
       "      <td>NaN</td>\n",
       "      <td>Vanuatu</td>\n",
       "      <td>1</td>\n",
       "      <td>1</td>\n",
       "      <td>2023</td>\n",
       "      <td>8</td>\n",
       "    </tr>\n",
       "    <tr>\n",
       "      <th>1</th>\n",
       "      <td>M 6.5 - 43 km S of Intipucá, El Salvador</td>\n",
       "      <td>6.5</td>\n",
       "      <td>8</td>\n",
       "      <td>6</td>\n",
       "      <td>yellow</td>\n",
       "      <td>0</td>\n",
       "      <td>775</td>\n",
       "      <td>us</td>\n",
       "      <td>92</td>\n",
       "      <td>0.7</td>\n",
       "      <td>40.0</td>\n",
       "      <td>mww</td>\n",
       "      <td>69.7</td>\n",
       "      <td>12.8</td>\n",
       "      <td>-88.1</td>\n",
       "      <td>Intipucá, El Salvador</td>\n",
       "      <td>NaN</td>\n",
       "      <td>NaN</td>\n",
       "      <td>1</td>\n",
       "      <td>1</td>\n",
       "      <td>2023</td>\n",
       "      <td>7</td>\n",
       "    </tr>\n",
       "    <tr>\n",
       "      <th>2</th>\n",
       "      <td>M 6.6 - 25 km ESE of Loncopué, Argentina</td>\n",
       "      <td>6.6</td>\n",
       "      <td>7</td>\n",
       "      <td>5</td>\n",
       "      <td>green</td>\n",
       "      <td>0</td>\n",
       "      <td>899</td>\n",
       "      <td>us</td>\n",
       "      <td>70</td>\n",
       "      <td>1.6</td>\n",
       "      <td>28.0</td>\n",
       "      <td>mww</td>\n",
       "      <td>171.4</td>\n",
       "      <td>-38.2</td>\n",
       "      <td>-70.4</td>\n",
       "      <td>Loncopué, Argentina</td>\n",
       "      <td>South America</td>\n",
       "      <td>Argentina</td>\n",
       "      <td>1</td>\n",
       "      <td>0</td>\n",
       "      <td>2023</td>\n",
       "      <td>7</td>\n",
       "    </tr>\n",
       "  </tbody>\n",
       "</table>\n",
       "</div>"
      ],
      "text/plain": [
       "                                      title  magnitude  cdi  mmi   alert  \\\n",
       "0          M 6.5 - 42 km W of Sola, Vanuatu        6.5    7    4   green   \n",
       "1  M 6.5 - 43 km S of Intipucá, El Salvador        6.5    8    6  yellow   \n",
       "2  M 6.6 - 25 km ESE of Loncopué, Argentina        6.6    7    5   green   \n",
       "\n",
       "   tsunami  sig net  nst  dmin   gap magType  depth  latitude  longitude  \\\n",
       "0        0  657  us  114   7.2  25.0     mww  193.0     -13.9      167.2   \n",
       "1        0  775  us   92   0.7  40.0     mww   69.7      12.8      -88.1   \n",
       "2        0  899  us   70   1.6  28.0     mww  171.4     -38.2      -70.4   \n",
       "\n",
       "                location      continent    country  terremoto  intensidad  \\\n",
       "0          Sola, Vanuatu            NaN    Vanuatu          1           1   \n",
       "1  Intipucá, El Salvador            NaN        NaN          1           1   \n",
       "2    Loncopué, Argentina  South America  Argentina          1           0   \n",
       "\n",
       "   Year  Month  \n",
       "0  2023      8  \n",
       "1  2023      7  \n",
       "2  2023      7  "
      ]
     },
     "execution_count": 182,
     "metadata": {},
     "output_type": "execute_result"
    }
   ],
   "source": [
    "df_sredondeo =pd.read_csv(\"earthquake_1995-2023.csv\")\n",
    "df = df_sredondeo.round(1)\n",
    "#en la escala de Richter, un terremoto se considera significativo a partir de una magnitud de 3.5.\n",
    "df['terremoto'] = np.where(df['magnitude'] >= 3.5, 1, 0)\n",
    "# Crear la columna 'intensidad' con las categorías especificadas\n",
    "df['intensidad'] = np.where(df['magnitude'] <= 3.5, 'leve',\n",
    "                           np.where(df['magnitude'] <= 6.5, 'moderado', 'fuerte'))\n",
    "\n",
    "\n",
    "df['date_time']=pd.to_datetime(df['date_time'])\n",
    "df['Year']=pd.DatetimeIndex(df[\"date_time\"]).year\n",
    "df['Month']=pd.DatetimeIndex(df[\"date_time\"]).month\n",
    "df.drop('date_time',axis=1,inplace=True)    \n",
    "\n",
    "def mapear_intensidad(valor):\n",
    "    if valor == 'moderado':\n",
    "        return 1\n",
    "    elif valor == 'fuerte':\n",
    "        return 0\n",
    "  \n",
    "df['intensidad'] = df['intensidad'].apply(mapear_intensidad)\n",
    "df.head(3)"
   ]
  },
  {
   "cell_type": "markdown",
   "metadata": {},
   "source": [
    "## <CENTER> __BIBLIOGRAFIA__ </CENTER>"
   ]
  },
  {
   "cell_type": "markdown",
   "metadata": {},
   "source": [
    "*https://gemini.google.com/app*"
   ]
  },
  {
   "cell_type": "markdown",
   "metadata": {},
   "source": [
    "https://www.kaggle.com/datasets/warcoder/earthquake-dataset"
   ]
  },
  {
   "cell_type": "markdown",
   "metadata": {},
   "source": [
    "https://imaster.academy/course/view.php?id=2667&section=3"
   ]
  },
  {
   "cell_type": "markdown",
   "metadata": {},
   "source": [
    "https://imaster.academy/course/view.php?id=2667&section=1"
   ]
  },
  {
   "cell_type": "markdown",
   "metadata": {},
   "source": [
    "https://imaster.academy/course/view.php?id=2667&section=9"
   ]
  }
 ],
 "metadata": {
  "kernelspec": {
   "display_name": "Python 3",
   "language": "python",
   "name": "python3"
  },
  "language_info": {
   "codemirror_mode": {
    "name": "ipython",
    "version": 3
   },
   "file_extension": ".py",
   "mimetype": "text/x-python",
   "name": "python",
   "nbconvert_exporter": "python",
   "pygments_lexer": "ipython3",
   "version": "3.12.6"
  }
 },
 "nbformat": 4,
 "nbformat_minor": 2
}
