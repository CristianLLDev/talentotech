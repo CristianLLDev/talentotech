{
  "nbformat": 4,
  "nbformat_minor": 0,
  "metadata": {
    "colab": {
      "provenance": [],
      "authorship_tag": "ABX9TyMfegVblx/N2xgDA+8Q+2iR",
      "include_colab_link": true
    },
    "kernelspec": {
      "name": "python3",
      "display_name": "Python 3"
    },
    "language_info": {
      "name": "python"
    }
  },
  "cells": [
    {
      "cell_type": "markdown",
      "metadata": {
        "id": "view-in-github",
        "colab_type": "text"
      },
      "source": [
        "<a href=\"https://colab.research.google.com/github/CristianLLDev/talentotech/blob/main/Funciones_calculo_MAE%2CMSE%2CR2.ipynb\" target=\"_parent\"><img src=\"https://colab.research.google.com/assets/colab-badge.svg\" alt=\"Open In Colab\"/></a>"
      ]
    },
    {
      "cell_type": "markdown",
      "source": [
        "FUNCIONES PARA CALCULAR Error Cuadrático Medio (MSE), Error Absoluto Medio (MAE), Coeficiente de Determinación (R²)"
      ],
      "metadata": {
        "id": "J4iRcdhPP-Dq"
      }
    },
    {
      "cell_type": "code",
      "execution_count": 1,
      "metadata": {
        "colab": {
          "base_uri": "https://localhost:8080/"
        },
        "id": "Ah884vuQPni9",
        "outputId": "ab2ff657-ca7e-41da-bc97-95c09950d675"
      },
      "outputs": [
        {
          "output_type": "stream",
          "name": "stdout",
          "text": [
            "{'MAE': 0.5, 'MSE': 0.375, 'R²': 0.9486081370449679}\n"
          ]
        }
      ],
      "source": [
        "from sklearn.metrics import mean_squared_error, mean_absolute_error, r2_score\n",
        "\n",
        "def get_regression_metrics(y_real, y_pred):\n",
        "    # Error Absoluto Medio (MAE)\n",
        "    mae = mean_absolute_error(y_real, y_pred)\n",
        "\n",
        "    # Error Cuadrático Medio (MSE)\n",
        "    mse = mean_squared_error(y_real, y_pred)\n",
        "\n",
        "    # Coeficiente de Determinación (R²)\n",
        "    r2 = r2_score(y_real, y_pred)\n",
        "\n",
        "    return {\"MAE\": mae, \"MSE\": mse, \"R²\": r2}\n",
        "\n",
        "# Ejemplo de uso\n",
        "y_real = [3.0, -0.5, 2.0, 7.0]\n",
        "y_pred = [2.5, 0.0, 2.0, 8.0]\n",
        "\n",
        "metrics = get_regression_metrics(y_real, y_pred)\n",
        "print(metrics)\n"
      ]
    },
    {
      "cell_type": "markdown",
      "source": [
        "mean_absolute_error(y_real, y_pred): r/ 0.5 Calcula el error absoluto medio, que es el promedio de los valores absolutos de las diferencias entre y_real y y_pred."
      ],
      "metadata": {
        "id": "aTXtyjxwQ9ct"
      }
    },
    {
      "cell_type": "markdown",
      "source": [
        "mean_squared_error(y_real, y_pred):r/ 0.375 Calcula el error cuadrático medio, que es el promedio de las diferencias al cuadrado entre y_real y y_pred."
      ],
      "metadata": {
        "id": "GmXYcN1tRM1K"
      }
    },
    {
      "cell_type": "markdown",
      "source": [
        "r2_score(y_real, y_pred): r/ 'R²': 0.9486081370449679  Calcula el coeficiente de determinación (R²), que mide qué tan bien se ajusta el modelo a los datos."
      ],
      "metadata": {
        "id": "hs5hpPepRYTs"
      }
    }
  ]
}