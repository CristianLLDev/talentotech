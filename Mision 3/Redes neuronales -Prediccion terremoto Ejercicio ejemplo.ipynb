{
 "cells": [
  {
   "cell_type": "code",
   "execution_count": 6,
   "metadata": {},
   "outputs": [
    {
     "name": "stdout",
     "output_type": "stream",
     "text": [
      "Predicción (probabilidad de ser un terremoto fuerte): [2.98840785e-16]\n"
     ]
    },
    {
     "name": "stderr",
     "output_type": "stream",
     "text": [
      "C:\\Users\\User\\AppData\\Local\\Temp\\ipykernel_4744\\2910757501.py:17: RuntimeWarning: overflow encountered in exp\n",
      "  return 1 / (1 + np.exp(-z))\n"
     ]
    }
   ],
   "source": [
    "import numpy as np\n",
    "\n",
    "# Datos de ejemplo (simplificado)\n",
    "# Cada fila representa un terremoto: magnitud, profundidad, ubicación (x, y)\n",
    "X = np.array([[5.5, 10, -120, 35],\n",
    "             [4.2, 15, -118, 34],\n",
    "             # ... más terremotos\n",
    "             ])\n",
    "y = np.array([1, 0, 1, ...])  # 1: terremoto fuerte, 0: terremoto débil\n",
    "\n",
    "# Inicializar pesos y bias\n",
    "weights = np.random.rand(X.shape[1])\n",
    "bias = np.random.rand(1)\n",
    "\n",
    "# Función de activación (sigmoide)\n",
    "def sigmoid(z):\n",
    "    return 1 / (1 + np.exp(-z))\n",
    "\n",
    "# Tasa de aprendizaje\n",
    "learning_rate = 0.1\n",
    "\n",
    "# Entrenamiento\n",
    "for epoch in range(1000):\n",
    "    for i in range(len(X)):\n",
    "        # Calcular la salida\n",
    "        z = np.dot(X[i], weights) + bias\n",
    "        prediction = sigmoid(z)\n",
    "\n",
    "        # Calcular el error\n",
    "        error = y[i] - prediction\n",
    "\n",
    "        # Actualizar pesos y bias\n",
    "        weights += learning_rate * error * X[i]\n",
    "        bias += learning_rate * error\n",
    "\n",
    "# Hacer una predicción\n",
    "new_earthquake = np.array([6.2, 12, -122, 38])\n",
    "prediction = sigmoid(np.dot(new_earthquake, weights) + bias)\n",
    "print(\"Predicción (probabilidad de ser un terremoto fuerte):\", prediction)"
   ]
  }
 ],
 "metadata": {
  "kernelspec": {
   "display_name": "Python 3",
   "language": "python",
   "name": "python3"
  },
  "language_info": {
   "codemirror_mode": {
    "name": "ipython",
    "version": 3
   },
   "file_extension": ".py",
   "mimetype": "text/x-python",
   "name": "python",
   "nbconvert_exporter": "python",
   "pygments_lexer": "ipython3",
   "version": "3.12.6"
  }
 },
 "nbformat": 4,
 "nbformat_minor": 2
}
