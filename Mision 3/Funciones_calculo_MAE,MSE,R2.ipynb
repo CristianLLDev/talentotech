{
  "nbformat": 4,
  "nbformat_minor": 0,
  "metadata": {
    "colab": {
      "provenance": [],
      "authorship_tag": "ABX9TyMqj2zd1Fln45neXRpskxCk",
      "include_colab_link": true
    },
    "kernelspec": {
      "name": "python3",
      "display_name": "Python 3"
    },
    "language_info": {
      "name": "python"
    }
  },
  "cells": [
    {
      "cell_type": "markdown",
      "metadata": {
        "id": "view-in-github",
        "colab_type": "text"
      },
      "source": [
        "<a href=\"https://colab.research.google.com/github/CristianLLDev/talentotech/blob/main/Funciones_calculo_MAE%2CMSE%2CR2.ipynb\" target=\"_parent\"><img src=\"https://colab.research.google.com/assets/colab-badge.svg\" alt=\"Open In Colab\"/></a>"
      ]
    },
    {
      "cell_type": "code",
      "source": [
        "import numpy as np\n",
        "\n",
        "def calcular_metricas(y_real, y_pred):\n",
        "  # Convertir las listas a arrays de NumPy para facilitar las operaciones\n",
        "  y_real = np.array(y_real)\n",
        "  y_pred = np.array(y_pred)\n",
        "\n",
        "  # Calcular el MAE\n",
        "  diferencias = np.abs(y_real - y_pred)\n",
        "  mae = np.mean(diferencias)\n",
        "\n",
        "  # Calcular el MSE\n",
        "  diferencias_cuadradas = np.square(y_real - y_pred)\n",
        "  mse = np.mean(diferencias_cuadradas)\n",
        "\n",
        "  # Calcular el R²\n",
        "  # Primero, calculamos la media de los valores reales\n",
        "  media_real = np.mean(y_real)\n",
        "  # Suma de cuadrados de los residuos (SSR)\n",
        "  ssr = np.sum(np.square(y_real - y_pred))\n",
        "  # Suma de cuadrados totales (SST)\n",
        "  sst = np.sum(np.square(y_real - media_real))\n",
        "  # Calculamos R²\n",
        "  r2 = 1 - (ssr / sst)\n",
        "\n",
        "  return {'MAE': mae, 'MSE': mse, 'R²': r2}\n",
        "\n",
        "# Ejemplo de uso\n",
        "y_real = [3.0, -0.5, 2.0, 7.0]\n",
        "y_pred = [2.5, 0.0, 2.0, 8.0]\n",
        "\n",
        "metricas = calcular_metricas(y_real, y_pred)\n",
        "print(metricas)"
      ],
      "metadata": {
        "colab": {
          "base_uri": "https://localhost:8080/"
        },
        "id": "08UVQWKxFZKc",
        "outputId": "ff0b0888-2dd2-40ad-c22f-1c5486c3875c"
      },
      "execution_count": null,
      "outputs": [
        {
          "output_type": "stream",
          "name": "stdout",
          "text": [
            "{'MAE': 0.5, 'MSE': 0.375, 'R²': 0.9486081370449679}\n"
          ]
        }
      ]
    },
    {
      "cell_type": "markdown",
      "source": [
        "Error absoluto Medio MAE"
      ],
      "metadata": {
        "id": "m7P9FaFQGAke"
      }
    },
    {
      "cell_type": "code",
      "source": [
        "# Datos de ejemplo\n",
        "valores_reales = [3.0, -0.5, 2.0, 7.0]\n",
        "valores_predichos = [2.5, 0.0, 2.0, 8.0]\n",
        "\n",
        "    # Calcular las diferencias absolutas\n",
        "diferencias=abs(3.0-2.5) + abs(-0.5-0.0) + abs(2.0-2.0) + abs(7.0-8.0)\n",
        "mae=diferencias/4\n",
        "print(\"El MAE es:\", mae)\n",
        "\n"
      ],
      "metadata": {
        "colab": {
          "base_uri": "https://localhost:8080/"
        },
        "id": "QTwLJsnPF-Pk",
        "outputId": "f2e615ae-f1c6-40f8-f777-0c1fac355b93"
      },
      "execution_count": 6,
      "outputs": [
        {
          "output_type": "stream",
          "name": "stdout",
          "text": [
            "El MAE es: 0.5\n"
          ]
        }
      ]
    },
    {
      "cell_type": "markdown",
      "source": [
        "El Error Cuadrático Medio (MSE),\n",
        "MSE = (1/n) * Σ(yᵢ - ŷᵢ)²"
      ],
      "metadata": {
        "id": "24BPmCIf3svs"
      }
    },
    {
      "cell_type": "code",
      "source": [
        "# Datos de ejemplo\n",
        "valores_reales = [3.0, -0.5, 2.0, 7.0]\n",
        "valores_predichos = [2.5, 0.0, 2.0, 8.0]\n",
        "\n",
        "diferencias=(3.0-2.5)**2 + (-0.5-0.0)**2 + (2.0-2.0)**2 + (7.0-8.0)**2\n",
        "mse=diferencias/4\n",
        "print(\"El MSE es:\", mse)"
      ],
      "metadata": {
        "colab": {
          "base_uri": "https://localhost:8080/"
        },
        "id": "D3__xWmV3t6b",
        "outputId": "fad684cb-4504-4509-f914-6e689f44db24"
      },
      "execution_count": 14,
      "outputs": [
        {
          "output_type": "stream",
          "name": "stdout",
          "text": [
            "El MSE es: 0.375\n"
          ]
        }
      ]
    },
    {
      "cell_type": "markdown",
      "source": [
        "R² = 1 - (SSR / SST)\n",
        "SSR (Suma de Cuadrados de los Residuales): Es la suma de las diferencias al cuadrado entre los valores observados y los valores predichos por el modelo.\n",
        "SST (Suma Total de Cuadrados): Es la suma de las diferencias al cuadrado entre los valores observados y la media de los valores observados."
      ],
      "metadata": {
        "id": "bK7iGahm6iqA"
      }
    },
    {
      "cell_type": "code",
      "source": [
        "# Datos de ejemplo\n",
        "valores_reales = [3.0, -0.5, 2.0, 7.0]\n",
        "valores_predichos = [2.5, 0.0, 2.0, 8.0]\n",
        "#Calcular la media de los valores reales (ȳ):\n",
        "ȳ = (3.0 + (-0.5) + 2.0 + 7.0) / 4\n",
        "print(ȳ)\n",
        "\n",
        "#Calcular los residuales (yᵢ - ŷᵢ) y elevarlos al cuadrado me da el ssr:\n",
        "ssr=(3.0-2.5)**2 + (-0.5-0.0)**2 + (2.0-2.0)**2 + (7.0-8.0)**2\n",
        "print(ssr)\n",
        "\n",
        "#Calcular las diferencias entre los valores reales y la media, y elevarlas al cuadrado:\n",
        "\n",
        "sst=(3.0-2.875)**2 + (-0.5-2.875)**2 + (2.0-2.875)**2 + (7.0-2.875)**2\n",
        "print(sst)\n",
        "r_cuadrado=1-(ssr/sst)\n",
        "print(\"El R² es:\", r_cuadrado)\n"
      ],
      "metadata": {
        "colab": {
          "base_uri": "https://localhost:8080/"
        },
        "id": "mSnrhZkz6n4D",
        "outputId": "e601b7e1-f079-409c-8438-6f2b7e81a346"
      },
      "execution_count": 27,
      "outputs": [
        {
          "output_type": "stream",
          "name": "stdout",
          "text": [
            "2.875\n",
            "1.5\n",
            "29.1875\n",
            "El R² es: 0.9486081370449679\n"
          ]
        }
      ]
    }
  ]
}