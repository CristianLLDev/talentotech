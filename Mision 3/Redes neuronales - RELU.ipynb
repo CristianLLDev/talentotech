{
 "cells": [
  {
   "cell_type": "markdown",
   "metadata": {},
   "source": [
    "¿Qué es la Función ReLU?\n",
    "ReLU (Rectified Linear Unit) es una de las funciones de activación más utilizadas en redes neuronales profundas. Su simplicidad y eficiencia la han convertido en una elección popular para muchas arquitecturas. Básicamente, la función ReLU devuelve el valor de entrada si este es positivo, y cero en caso contrario."
   ]
  },
  {
   "cell_type": "code",
   "execution_count": 7,
   "metadata": {},
   "outputs": [
    {
     "name": "stdout",
     "output_type": "stream",
     "text": [
      "[0 2 0 4]\n"
     ]
    }
   ],
   "source": [
    "import numpy as np\n",
    "\n",
    "def relu(x):\n",
    "    return np.maximum(0, x)\n",
    "\n",
    "x = np.array([-1, 2, -3, 4])\n",
    "y = relu(x)\n",
    "print(y)  # Output: [0 2 0 4]"
   ]
  }
 ],
 "metadata": {
  "kernelspec": {
   "display_name": "Python 3",
   "language": "python",
   "name": "python3"
  },
  "language_info": {
   "codemirror_mode": {
    "name": "ipython",
    "version": 3
   },
   "file_extension": ".py",
   "mimetype": "text/x-python",
   "name": "python",
   "nbconvert_exporter": "python",
   "pygments_lexer": "ipython3",
   "version": "3.12.6"
  }
 },
 "nbformat": 4,
 "nbformat_minor": 2
}
